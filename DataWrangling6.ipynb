{
 "cells": [
  {
   "cell_type": "code",
   "execution_count": 296,
   "metadata": {},
   "outputs": [],
   "source": [
    "import numpy as np\n",
    "import pandas as pd\n",
    "import matplotlib.pyplot as plt\n",
    "import seaborn as sns\n"
   ]
  },
  {
   "cell_type": "markdown",
   "metadata": {},
   "source": [
    "# WRANGLING THE FIRST DATAFRAME:"
   ]
  },
  {
   "cell_type": "code",
   "execution_count": 297,
   "metadata": {},
   "outputs": [
    {
     "data": {
      "text/html": [
       "<div>\n",
       "<style scoped>\n",
       "    .dataframe tbody tr th:only-of-type {\n",
       "        vertical-align: middle;\n",
       "    }\n",
       "\n",
       "    .dataframe tbody tr th {\n",
       "        vertical-align: top;\n",
       "    }\n",
       "\n",
       "    .dataframe thead th {\n",
       "        text-align: right;\n",
       "    }\n",
       "</style>\n",
       "<table border=\"1\" class=\"dataframe\">\n",
       "  <thead>\n",
       "    <tr style=\"text-align: right;\">\n",
       "      <th></th>\n",
       "      <th>id</th>\n",
       "      <th>rank</th>\n",
       "      <th>country_full</th>\n",
       "      <th>country_abrv</th>\n",
       "      <th>total_points</th>\n",
       "      <th>previous_points</th>\n",
       "      <th>rank_change</th>\n",
       "      <th>confederation</th>\n",
       "      <th>rank_date</th>\n",
       "    </tr>\n",
       "  </thead>\n",
       "  <tbody>\n",
       "    <tr>\n",
       "      <td>0</td>\n",
       "      <td>43935</td>\n",
       "      <td>1</td>\n",
       "      <td>Belgium</td>\n",
       "      <td>BEL</td>\n",
       "      <td>1765</td>\n",
       "      <td>10706050</td>\n",
       "      <td>0</td>\n",
       "      <td>UEFA</td>\n",
       "      <td>2019-12-19</td>\n",
       "    </tr>\n",
       "    <tr>\n",
       "      <td>1</td>\n",
       "      <td>43946</td>\n",
       "      <td>2</td>\n",
       "      <td>France</td>\n",
       "      <td>FRA</td>\n",
       "      <td>1733</td>\n",
       "      <td>10703030</td>\n",
       "      <td>0</td>\n",
       "      <td>UEFA</td>\n",
       "      <td>2019-12-19</td>\n",
       "    </tr>\n",
       "    <tr>\n",
       "      <td>2</td>\n",
       "      <td>43924</td>\n",
       "      <td>3</td>\n",
       "      <td>Brazil</td>\n",
       "      <td>BRA</td>\n",
       "      <td>1712</td>\n",
       "      <td>10701020</td>\n",
       "      <td>0</td>\n",
       "      <td>CONMEBOL</td>\n",
       "      <td>2019-12-19</td>\n",
       "    </tr>\n",
       "    <tr>\n",
       "      <td>3</td>\n",
       "      <td>43942</td>\n",
       "      <td>4</td>\n",
       "      <td>England</td>\n",
       "      <td>ENG</td>\n",
       "      <td>1661</td>\n",
       "      <td>10606010</td>\n",
       "      <td>0</td>\n",
       "      <td>UEFA</td>\n",
       "      <td>2019-12-19</td>\n",
       "    </tr>\n",
       "    <tr>\n",
       "      <td>4</td>\n",
       "      <td>43930</td>\n",
       "      <td>5</td>\n",
       "      <td>Uruguay</td>\n",
       "      <td>URU</td>\n",
       "      <td>1645</td>\n",
       "      <td>10604050</td>\n",
       "      <td>0</td>\n",
       "      <td>CONMEBOL</td>\n",
       "      <td>2019-12-19</td>\n",
       "    </tr>\n",
       "  </tbody>\n",
       "</table>\n",
       "</div>"
      ],
      "text/plain": [
       "      id  rank country_full country_abrv  total_points  previous_points  \\\n",
       "0  43935     1      Belgium          BEL          1765         10706050   \n",
       "1  43946     2       France          FRA          1733         10703030   \n",
       "2  43924     3       Brazil          BRA          1712         10701020   \n",
       "3  43942     4      England          ENG          1661         10606010   \n",
       "4  43930     5      Uruguay          URU          1645         10604050   \n",
       "\n",
       "   rank_change confederation   rank_date  \n",
       "0            0          UEFA  2019-12-19  \n",
       "1            0          UEFA  2019-12-19  \n",
       "2            0      CONMEBOL  2019-12-19  \n",
       "3            0          UEFA  2019-12-19  \n",
       "4            0      CONMEBOL  2019-12-19  "
      ]
     },
     "execution_count": 297,
     "metadata": {},
     "output_type": "execute_result"
    }
   ],
   "source": [
    "df1 = pd.read_csv('fifa_ranking-2019-12-19.csv')\n",
    "\n",
    "df1.head()"
   ]
  },
  {
   "cell_type": "code",
   "execution_count": 298,
   "metadata": {},
   "outputs": [
    {
     "data": {
      "text/html": [
       "<div>\n",
       "<style scoped>\n",
       "    .dataframe tbody tr th:only-of-type {\n",
       "        vertical-align: middle;\n",
       "    }\n",
       "\n",
       "    .dataframe tbody tr th {\n",
       "        vertical-align: top;\n",
       "    }\n",
       "\n",
       "    .dataframe thead th {\n",
       "        text-align: right;\n",
       "    }\n",
       "</style>\n",
       "<table border=\"1\" class=\"dataframe\">\n",
       "  <thead>\n",
       "    <tr style=\"text-align: right;\">\n",
       "      <th></th>\n",
       "      <th>id</th>\n",
       "      <th>rank</th>\n",
       "      <th>country_full</th>\n",
       "      <th>country_abrv</th>\n",
       "      <th>total_points</th>\n",
       "      <th>previous_points</th>\n",
       "      <th>rank_change</th>\n",
       "      <th>confederation</th>\n",
       "      <th>rank_date</th>\n",
       "    </tr>\n",
       "  </thead>\n",
       "  <tbody>\n",
       "    <tr>\n",
       "      <td>60749</td>\n",
       "      <td>43825</td>\n",
       "      <td>161</td>\n",
       "      <td>Lebanon</td>\n",
       "      <td>LBN</td>\n",
       "      <td>0</td>\n",
       "      <td>0</td>\n",
       "      <td>0</td>\n",
       "      <td>AFC</td>\n",
       "      <td>1992-12-31</td>\n",
       "    </tr>\n",
       "    <tr>\n",
       "      <td>60750</td>\n",
       "      <td>43895</td>\n",
       "      <td>162</td>\n",
       "      <td>Bahamas</td>\n",
       "      <td>BAH</td>\n",
       "      <td>0</td>\n",
       "      <td>0</td>\n",
       "      <td>0</td>\n",
       "      <td>CONCACAF</td>\n",
       "      <td>1992-12-31</td>\n",
       "    </tr>\n",
       "    <tr>\n",
       "      <td>60751</td>\n",
       "      <td>43828</td>\n",
       "      <td>163</td>\n",
       "      <td>Maldives</td>\n",
       "      <td>MDV</td>\n",
       "      <td>0</td>\n",
       "      <td>0</td>\n",
       "      <td>0</td>\n",
       "      <td>AFC</td>\n",
       "      <td>1992-12-31</td>\n",
       "    </tr>\n",
       "    <tr>\n",
       "      <td>60752</td>\n",
       "      <td>43877</td>\n",
       "      <td>163</td>\n",
       "      <td>Rwanda</td>\n",
       "      <td>RWA</td>\n",
       "      <td>0</td>\n",
       "      <td>0</td>\n",
       "      <td>0</td>\n",
       "      <td>CAF</td>\n",
       "      <td>1992-12-31</td>\n",
       "    </tr>\n",
       "    <tr>\n",
       "      <td>60753</td>\n",
       "      <td>43882</td>\n",
       "      <td>163</td>\n",
       "      <td>Somalia</td>\n",
       "      <td>SOM</td>\n",
       "      <td>0</td>\n",
       "      <td>0</td>\n",
       "      <td>0</td>\n",
       "      <td>CAF</td>\n",
       "      <td>1992-12-31</td>\n",
       "    </tr>\n",
       "  </tbody>\n",
       "</table>\n",
       "</div>"
      ],
      "text/plain": [
       "          id  rank country_full country_abrv  total_points  previous_points  \\\n",
       "60749  43825   161      Lebanon          LBN             0                0   \n",
       "60750  43895   162      Bahamas          BAH             0                0   \n",
       "60751  43828   163     Maldives          MDV             0                0   \n",
       "60752  43877   163       Rwanda          RWA             0                0   \n",
       "60753  43882   163      Somalia          SOM             0                0   \n",
       "\n",
       "       rank_change confederation   rank_date  \n",
       "60749            0           AFC  1992-12-31  \n",
       "60750            0      CONCACAF  1992-12-31  \n",
       "60751            0           AFC  1992-12-31  \n",
       "60752            0           CAF  1992-12-31  \n",
       "60753            0           CAF  1992-12-31  "
      ]
     },
     "execution_count": 298,
     "metadata": {},
     "output_type": "execute_result"
    }
   ],
   "source": [
    "df1.tail()"
   ]
  },
  {
   "cell_type": "code",
   "execution_count": 299,
   "metadata": {},
   "outputs": [
    {
     "data": {
      "text/plain": [
       "Index(['id', 'rank', 'country_full', 'country_abrv', 'total_points',\n",
       "       'previous_points', 'rank_change', 'confederation', 'rank_date'],\n",
       "      dtype='object')"
      ]
     },
     "execution_count": 299,
     "metadata": {},
     "output_type": "execute_result"
    }
   ],
   "source": [
    "df1.columns"
   ]
  },
  {
   "cell_type": "code",
   "execution_count": 300,
   "metadata": {},
   "outputs": [
    {
     "data": {
      "text/plain": [
       "(60754, 9)"
      ]
     },
     "execution_count": 300,
     "metadata": {},
     "output_type": "execute_result"
    }
   ],
   "source": [
    "df1.shape"
   ]
  },
  {
   "cell_type": "code",
   "execution_count": 301,
   "metadata": {},
   "outputs": [
    {
     "name": "stdout",
     "output_type": "stream",
     "text": [
      "<class 'pandas.core.frame.DataFrame'>\n",
      "RangeIndex: 60754 entries, 0 to 60753\n",
      "Data columns (total 9 columns):\n",
      "id                 60754 non-null int64\n",
      "rank               60754 non-null int64\n",
      "country_full       60754 non-null object\n",
      "country_abrv       60754 non-null object\n",
      "total_points       60754 non-null int64\n",
      "previous_points    60754 non-null int64\n",
      "rank_change        60754 non-null int64\n",
      "confederation      60754 non-null object\n",
      "rank_date          60754 non-null object\n",
      "dtypes: int64(5), object(4)\n",
      "memory usage: 4.2+ MB\n"
     ]
    }
   ],
   "source": [
    "df1.info()"
   ]
  },
  {
   "cell_type": "code",
   "execution_count": 302,
   "metadata": {},
   "outputs": [
    {
     "data": {
      "text/html": [
       "<div>\n",
       "<style scoped>\n",
       "    .dataframe tbody tr th:only-of-type {\n",
       "        vertical-align: middle;\n",
       "    }\n",
       "\n",
       "    .dataframe tbody tr th {\n",
       "        vertical-align: top;\n",
       "    }\n",
       "\n",
       "    .dataframe thead th {\n",
       "        text-align: right;\n",
       "    }\n",
       "</style>\n",
       "<table border=\"1\" class=\"dataframe\">\n",
       "  <thead>\n",
       "    <tr style=\"text-align: right;\">\n",
       "      <th></th>\n",
       "      <th>id</th>\n",
       "      <th>rank</th>\n",
       "      <th>country_full</th>\n",
       "      <th>country_abrv</th>\n",
       "      <th>total_points</th>\n",
       "      <th>previous_points</th>\n",
       "      <th>rank_change</th>\n",
       "      <th>confederation</th>\n",
       "      <th>rank_date</th>\n",
       "    </tr>\n",
       "  </thead>\n",
       "  <tbody>\n",
       "    <tr>\n",
       "      <td>0</td>\n",
       "      <td>43935</td>\n",
       "      <td>1</td>\n",
       "      <td>Belgium</td>\n",
       "      <td>BEL</td>\n",
       "      <td>1765</td>\n",
       "      <td>10706050</td>\n",
       "      <td>0</td>\n",
       "      <td>UEFA</td>\n",
       "      <td>2019-12-19</td>\n",
       "    </tr>\n",
       "    <tr>\n",
       "      <td>1</td>\n",
       "      <td>43946</td>\n",
       "      <td>2</td>\n",
       "      <td>France</td>\n",
       "      <td>FRA</td>\n",
       "      <td>1733</td>\n",
       "      <td>10703030</td>\n",
       "      <td>0</td>\n",
       "      <td>UEFA</td>\n",
       "      <td>2019-12-19</td>\n",
       "    </tr>\n",
       "    <tr>\n",
       "      <td>2</td>\n",
       "      <td>43924</td>\n",
       "      <td>3</td>\n",
       "      <td>Brazil</td>\n",
       "      <td>BRA</td>\n",
       "      <td>1712</td>\n",
       "      <td>10701020</td>\n",
       "      <td>0</td>\n",
       "      <td>CONMEBOL</td>\n",
       "      <td>2019-12-19</td>\n",
       "    </tr>\n",
       "    <tr>\n",
       "      <td>3</td>\n",
       "      <td>43942</td>\n",
       "      <td>4</td>\n",
       "      <td>England</td>\n",
       "      <td>ENG</td>\n",
       "      <td>1661</td>\n",
       "      <td>10606010</td>\n",
       "      <td>0</td>\n",
       "      <td>UEFA</td>\n",
       "      <td>2019-12-19</td>\n",
       "    </tr>\n",
       "    <tr>\n",
       "      <td>4</td>\n",
       "      <td>43930</td>\n",
       "      <td>5</td>\n",
       "      <td>Uruguay</td>\n",
       "      <td>URU</td>\n",
       "      <td>1645</td>\n",
       "      <td>10604050</td>\n",
       "      <td>0</td>\n",
       "      <td>CONMEBOL</td>\n",
       "      <td>2019-12-19</td>\n",
       "    </tr>\n",
       "    <tr>\n",
       "      <td>...</td>\n",
       "      <td>...</td>\n",
       "      <td>...</td>\n",
       "      <td>...</td>\n",
       "      <td>...</td>\n",
       "      <td>...</td>\n",
       "      <td>...</td>\n",
       "      <td>...</td>\n",
       "      <td>...</td>\n",
       "      <td>...</td>\n",
       "    </tr>\n",
       "    <tr>\n",
       "      <td>60749</td>\n",
       "      <td>43825</td>\n",
       "      <td>161</td>\n",
       "      <td>Lebanon</td>\n",
       "      <td>LBN</td>\n",
       "      <td>0</td>\n",
       "      <td>0</td>\n",
       "      <td>0</td>\n",
       "      <td>AFC</td>\n",
       "      <td>1992-12-31</td>\n",
       "    </tr>\n",
       "    <tr>\n",
       "      <td>60750</td>\n",
       "      <td>43895</td>\n",
       "      <td>162</td>\n",
       "      <td>Bahamas</td>\n",
       "      <td>BAH</td>\n",
       "      <td>0</td>\n",
       "      <td>0</td>\n",
       "      <td>0</td>\n",
       "      <td>CONCACAF</td>\n",
       "      <td>1992-12-31</td>\n",
       "    </tr>\n",
       "    <tr>\n",
       "      <td>60751</td>\n",
       "      <td>43828</td>\n",
       "      <td>163</td>\n",
       "      <td>Maldives</td>\n",
       "      <td>MDV</td>\n",
       "      <td>0</td>\n",
       "      <td>0</td>\n",
       "      <td>0</td>\n",
       "      <td>AFC</td>\n",
       "      <td>1992-12-31</td>\n",
       "    </tr>\n",
       "    <tr>\n",
       "      <td>60752</td>\n",
       "      <td>43877</td>\n",
       "      <td>163</td>\n",
       "      <td>Rwanda</td>\n",
       "      <td>RWA</td>\n",
       "      <td>0</td>\n",
       "      <td>0</td>\n",
       "      <td>0</td>\n",
       "      <td>CAF</td>\n",
       "      <td>1992-12-31</td>\n",
       "    </tr>\n",
       "    <tr>\n",
       "      <td>60753</td>\n",
       "      <td>43882</td>\n",
       "      <td>163</td>\n",
       "      <td>Somalia</td>\n",
       "      <td>SOM</td>\n",
       "      <td>0</td>\n",
       "      <td>0</td>\n",
       "      <td>0</td>\n",
       "      <td>CAF</td>\n",
       "      <td>1992-12-31</td>\n",
       "    </tr>\n",
       "  </tbody>\n",
       "</table>\n",
       "<p>60754 rows × 9 columns</p>\n",
       "</div>"
      ],
      "text/plain": [
       "          id  rank country_full country_abrv  total_points  previous_points  \\\n",
       "0      43935     1      Belgium          BEL          1765         10706050   \n",
       "1      43946     2       France          FRA          1733         10703030   \n",
       "2      43924     3       Brazil          BRA          1712         10701020   \n",
       "3      43942     4      England          ENG          1661         10606010   \n",
       "4      43930     5      Uruguay          URU          1645         10604050   \n",
       "...      ...   ...          ...          ...           ...              ...   \n",
       "60749  43825   161      Lebanon          LBN             0                0   \n",
       "60750  43895   162      Bahamas          BAH             0                0   \n",
       "60751  43828   163     Maldives          MDV             0                0   \n",
       "60752  43877   163       Rwanda          RWA             0                0   \n",
       "60753  43882   163      Somalia          SOM             0                0   \n",
       "\n",
       "       rank_change confederation   rank_date  \n",
       "0                0          UEFA  2019-12-19  \n",
       "1                0          UEFA  2019-12-19  \n",
       "2                0      CONMEBOL  2019-12-19  \n",
       "3                0          UEFA  2019-12-19  \n",
       "4                0      CONMEBOL  2019-12-19  \n",
       "...            ...           ...         ...  \n",
       "60749            0           AFC  1992-12-31  \n",
       "60750            0      CONCACAF  1992-12-31  \n",
       "60751            0           AFC  1992-12-31  \n",
       "60752            0           CAF  1992-12-31  \n",
       "60753            0           CAF  1992-12-31  \n",
       "\n",
       "[60754 rows x 9 columns]"
      ]
     },
     "execution_count": 302,
     "metadata": {},
     "output_type": "execute_result"
    }
   ],
   "source": [
    "#Removing duplicates to try and minimize the size of the final dataframe (reduced by almost 2000 rows)\n",
    "df1 = df1.drop_duplicates()\n",
    "df1"
   ]
  },
  {
   "cell_type": "code",
   "execution_count": 303,
   "metadata": {},
   "outputs": [
    {
     "data": {
      "text/html": [
       "<div>\n",
       "<style scoped>\n",
       "    .dataframe tbody tr th:only-of-type {\n",
       "        vertical-align: middle;\n",
       "    }\n",
       "\n",
       "    .dataframe tbody tr th {\n",
       "        vertical-align: top;\n",
       "    }\n",
       "\n",
       "    .dataframe thead th {\n",
       "        text-align: right;\n",
       "    }\n",
       "</style>\n",
       "<table border=\"1\" class=\"dataframe\">\n",
       "  <thead>\n",
       "    <tr style=\"text-align: right;\">\n",
       "      <th></th>\n",
       "      <th>country_full</th>\n",
       "      <th>rank</th>\n",
       "      <th>total_points</th>\n",
       "      <th>rank_date</th>\n",
       "    </tr>\n",
       "  </thead>\n",
       "  <tbody>\n",
       "    <tr>\n",
       "      <td>0</td>\n",
       "      <td>Belgium</td>\n",
       "      <td>1</td>\n",
       "      <td>1765</td>\n",
       "      <td>2019-12-19</td>\n",
       "    </tr>\n",
       "    <tr>\n",
       "      <td>1</td>\n",
       "      <td>France</td>\n",
       "      <td>2</td>\n",
       "      <td>1733</td>\n",
       "      <td>2019-12-19</td>\n",
       "    </tr>\n",
       "    <tr>\n",
       "      <td>2</td>\n",
       "      <td>Brazil</td>\n",
       "      <td>3</td>\n",
       "      <td>1712</td>\n",
       "      <td>2019-12-19</td>\n",
       "    </tr>\n",
       "    <tr>\n",
       "      <td>3</td>\n",
       "      <td>England</td>\n",
       "      <td>4</td>\n",
       "      <td>1661</td>\n",
       "      <td>2019-12-19</td>\n",
       "    </tr>\n",
       "    <tr>\n",
       "      <td>4</td>\n",
       "      <td>Uruguay</td>\n",
       "      <td>5</td>\n",
       "      <td>1645</td>\n",
       "      <td>2019-12-19</td>\n",
       "    </tr>\n",
       "  </tbody>\n",
       "</table>\n",
       "</div>"
      ],
      "text/plain": [
       "  country_full  rank  total_points   rank_date\n",
       "0      Belgium     1          1765  2019-12-19\n",
       "1       France     2          1733  2019-12-19\n",
       "2       Brazil     3          1712  2019-12-19\n",
       "3      England     4          1661  2019-12-19\n",
       "4      Uruguay     5          1645  2019-12-19"
      ]
     },
     "execution_count": 303,
     "metadata": {},
     "output_type": "execute_result"
    }
   ],
   "source": [
    "df1 = df1[['country_full', 'rank', 'total_points', 'rank_date']]\n",
    "df1.head()"
   ]
  },
  {
   "cell_type": "code",
   "execution_count": 304,
   "metadata": {},
   "outputs": [
    {
     "data": {
      "image/png": "[encoded data removed]",
      "text/plain": [
       "<Figure size 720x576 with 1 Axes>"
      ]
     },
     "metadata": {},
     "output_type": "display_data"
    }
   ],
   "source": [
    "plt.figure(figsize=(10,8))\n",
    "_ = sns.boxplot(x = 'total_points', data = df1)\n",
    "_ = plt.xlabel('Total points')\n",
    "\n"
   ]
  },
  {
   "cell_type": "code",
   "execution_count": 305,
   "metadata": {},
   "outputs": [
    {
     "data": {
      "image/png": "[encoded data removed]",
      "text/plain": [
       "<Figure size 720x576 with 1 Axes>"
      ]
     },
     "metadata": {},
     "output_type": "display_data"
    }
   ],
   "source": [
    "plt.figure(figsize=(10,8))\n",
    "x = np.sort(df1['total_points'])\n",
    "y = np.arange(1, len(x) + 1)/ len(x)\n",
    "\n",
    "_ = plt.plot(x, y, marker = '.', linestyle = 'none')\n",
    "_ = plt.xlabel('Total points')\n",
    "_ = plt.ylabel('ECDF')"
   ]
  },
  {
   "cell_type": "code",
   "execution_count": 306,
   "metadata": {
    "scrolled": true
   },
   "outputs": [
    {
     "data": {
      "text/html": [
       "<div>\n",
       "<style scoped>\n",
       "    .dataframe tbody tr th:only-of-type {\n",
       "        vertical-align: middle;\n",
       "    }\n",
       "\n",
       "    .dataframe tbody tr th {\n",
       "        vertical-align: top;\n",
       "    }\n",
       "\n",
       "    .dataframe thead th {\n",
       "        text-align: right;\n",
       "    }\n",
       "</style>\n",
       "<table border=\"1\" class=\"dataframe\">\n",
       "  <thead>\n",
       "    <tr style=\"text-align: right;\">\n",
       "      <th></th>\n",
       "      <th>country_full</th>\n",
       "      <th>rank</th>\n",
       "      <th>total_points</th>\n",
       "      <th>rank_date</th>\n",
       "    </tr>\n",
       "  </thead>\n",
       "  <tbody>\n",
       "    <tr>\n",
       "      <td>2739</td>\n",
       "      <td>Germany</td>\n",
       "      <td>1</td>\n",
       "      <td>2172</td>\n",
       "      <td>2018-07-01</td>\n",
       "    </tr>\n",
       "    <tr>\n",
       "      <td>2740</td>\n",
       "      <td>France</td>\n",
       "      <td>2</td>\n",
       "      <td>2164</td>\n",
       "      <td>2018-07-01</td>\n",
       "    </tr>\n",
       "    <tr>\n",
       "      <td>2741</td>\n",
       "      <td>Portugal</td>\n",
       "      <td>3</td>\n",
       "      <td>2163</td>\n",
       "      <td>2018-07-01</td>\n",
       "    </tr>\n",
       "    <tr>\n",
       "      <td>2742</td>\n",
       "      <td>Brazil</td>\n",
       "      <td>4</td>\n",
       "      <td>2160</td>\n",
       "      <td>2018-07-01</td>\n",
       "    </tr>\n",
       "    <tr>\n",
       "      <td>2743</td>\n",
       "      <td>Belgium</td>\n",
       "      <td>5</td>\n",
       "      <td>2124</td>\n",
       "      <td>2018-07-01</td>\n",
       "    </tr>\n",
       "  </tbody>\n",
       "</table>\n",
       "</div>"
      ],
      "text/plain": [
       "     country_full  rank  total_points   rank_date\n",
       "2739      Germany     1          2172  2018-07-01\n",
       "2740       France     2          2164  2018-07-01\n",
       "2741     Portugal     3          2163  2018-07-01\n",
       "2742       Brazil     4          2160  2018-07-01\n",
       "2743      Belgium     5          2124  2018-07-01"
      ]
     },
     "execution_count": 306,
     "metadata": {},
     "output_type": "execute_result"
    }
   ],
   "source": [
    "df1[df1['total_points'] >= 1800].head()"
   ]
  },
  {
   "cell_type": "markdown",
   "metadata": {},
   "source": [
    "# INTERESTING FINDING: POINTS BUMP DURING TOURNAMENT YEARS?\n",
    "There seems to be extreme values (around 1800 points) in the 'total_points' column. After inspecting the “total_points” column, I realized that the total points in 2018 were higher than in all other years (including 2019) which is a bit counterintuitive. This might be because that year was when the world cup was held so maybe there’s a points bump for countries that participate in the tournament. "
   ]
  },
  {
   "cell_type": "code",
   "execution_count": 307,
   "metadata": {},
   "outputs": [
    {
     "name": "stderr",
     "output_type": "stream",
     "text": [
      "/opt/anaconda3/lib/python3.7/site-packages/ipykernel_launcher.py:1: SettingWithCopyWarning: \n",
      "A value is trying to be set on a copy of a slice from a DataFrame.\n",
      "Try using .loc[row_indexer,col_indexer] = value instead\n",
      "\n",
      "See the caveats in the documentation: http://pandas.pydata.org/pandas-docs/stable/user_guide/indexing.html#returning-a-view-versus-a-copy\n",
      "  \"\"\"Entry point for launching an IPython kernel.\n"
     ]
    }
   ],
   "source": [
    "df1['country'] = df1['country_full']"
   ]
  },
  {
   "cell_type": "code",
   "execution_count": 308,
   "metadata": {
    "scrolled": false
   },
   "outputs": [
    {
     "data": {
      "text/html": [
       "<div>\n",
       "<style scoped>\n",
       "    .dataframe tbody tr th:only-of-type {\n",
       "        vertical-align: middle;\n",
       "    }\n",
       "\n",
       "    .dataframe tbody tr th {\n",
       "        vertical-align: top;\n",
       "    }\n",
       "\n",
       "    .dataframe thead th {\n",
       "        text-align: right;\n",
       "    }\n",
       "</style>\n",
       "<table border=\"1\" class=\"dataframe\">\n",
       "  <thead>\n",
       "    <tr style=\"text-align: right;\">\n",
       "      <th></th>\n",
       "      <th>country_full</th>\n",
       "      <th>rank</th>\n",
       "      <th>total_points</th>\n",
       "      <th>rank_date</th>\n",
       "      <th>country</th>\n",
       "    </tr>\n",
       "  </thead>\n",
       "  <tbody>\n",
       "    <tr>\n",
       "      <td>0</td>\n",
       "      <td>Belgium</td>\n",
       "      <td>1</td>\n",
       "      <td>1765</td>\n",
       "      <td>2019-12-19</td>\n",
       "      <td>Belgium</td>\n",
       "    </tr>\n",
       "    <tr>\n",
       "      <td>1</td>\n",
       "      <td>France</td>\n",
       "      <td>2</td>\n",
       "      <td>1733</td>\n",
       "      <td>2019-12-19</td>\n",
       "      <td>France</td>\n",
       "    </tr>\n",
       "    <tr>\n",
       "      <td>2</td>\n",
       "      <td>Brazil</td>\n",
       "      <td>3</td>\n",
       "      <td>1712</td>\n",
       "      <td>2019-12-19</td>\n",
       "      <td>Brazil</td>\n",
       "    </tr>\n",
       "    <tr>\n",
       "      <td>3</td>\n",
       "      <td>England</td>\n",
       "      <td>4</td>\n",
       "      <td>1661</td>\n",
       "      <td>2019-12-19</td>\n",
       "      <td>England</td>\n",
       "    </tr>\n",
       "    <tr>\n",
       "      <td>4</td>\n",
       "      <td>Uruguay</td>\n",
       "      <td>5</td>\n",
       "      <td>1645</td>\n",
       "      <td>2019-12-19</td>\n",
       "      <td>Uruguay</td>\n",
       "    </tr>\n",
       "  </tbody>\n",
       "</table>\n",
       "</div>"
      ],
      "text/plain": [
       "  country_full  rank  total_points   rank_date  country\n",
       "0      Belgium     1          1765  2019-12-19  Belgium\n",
       "1       France     2          1733  2019-12-19   France\n",
       "2       Brazil     3          1712  2019-12-19   Brazil\n",
       "3      England     4          1661  2019-12-19  England\n",
       "4      Uruguay     5          1645  2019-12-19  Uruguay"
      ]
     },
     "execution_count": 308,
     "metadata": {},
     "output_type": "execute_result"
    }
   ],
   "source": [
    "df1.head()"
   ]
  },
  {
   "cell_type": "code",
   "execution_count": 309,
   "metadata": {
    "scrolled": true
   },
   "outputs": [
    {
     "name": "stderr",
     "output_type": "stream",
     "text": [
      "/opt/anaconda3/lib/python3.7/site-packages/ipykernel_launcher.py:2: SettingWithCopyWarning: \n",
      "A value is trying to be set on a copy of a slice from a DataFrame.\n",
      "Try using .loc[row_indexer,col_indexer] = value instead\n",
      "\n",
      "See the caveats in the documentation: http://pandas.pydata.org/pandas-docs/stable/user_guide/indexing.html#returning-a-view-versus-a-copy\n",
      "  \n"
     ]
    },
    {
     "data": {
      "text/html": [
       "<div>\n",
       "<style scoped>\n",
       "    .dataframe tbody tr th:only-of-type {\n",
       "        vertical-align: middle;\n",
       "    }\n",
       "\n",
       "    .dataframe tbody tr th {\n",
       "        vertical-align: top;\n",
       "    }\n",
       "\n",
       "    .dataframe thead th {\n",
       "        text-align: right;\n",
       "    }\n",
       "</style>\n",
       "<table border=\"1\" class=\"dataframe\">\n",
       "  <thead>\n",
       "    <tr style=\"text-align: right;\">\n",
       "      <th></th>\n",
       "      <th>country_full</th>\n",
       "      <th>rank</th>\n",
       "      <th>total_points</th>\n",
       "      <th>rank_date</th>\n",
       "      <th>country</th>\n",
       "      <th>date</th>\n",
       "    </tr>\n",
       "  </thead>\n",
       "  <tbody>\n",
       "    <tr>\n",
       "      <td>0</td>\n",
       "      <td>Belgium</td>\n",
       "      <td>1</td>\n",
       "      <td>1765</td>\n",
       "      <td>2019-12-19</td>\n",
       "      <td>Belgium</td>\n",
       "      <td>2019-12-19</td>\n",
       "    </tr>\n",
       "    <tr>\n",
       "      <td>1</td>\n",
       "      <td>France</td>\n",
       "      <td>2</td>\n",
       "      <td>1733</td>\n",
       "      <td>2019-12-19</td>\n",
       "      <td>France</td>\n",
       "      <td>2019-12-19</td>\n",
       "    </tr>\n",
       "    <tr>\n",
       "      <td>2</td>\n",
       "      <td>Brazil</td>\n",
       "      <td>3</td>\n",
       "      <td>1712</td>\n",
       "      <td>2019-12-19</td>\n",
       "      <td>Brazil</td>\n",
       "      <td>2019-12-19</td>\n",
       "    </tr>\n",
       "    <tr>\n",
       "      <td>3</td>\n",
       "      <td>England</td>\n",
       "      <td>4</td>\n",
       "      <td>1661</td>\n",
       "      <td>2019-12-19</td>\n",
       "      <td>England</td>\n",
       "      <td>2019-12-19</td>\n",
       "    </tr>\n",
       "    <tr>\n",
       "      <td>4</td>\n",
       "      <td>Uruguay</td>\n",
       "      <td>5</td>\n",
       "      <td>1645</td>\n",
       "      <td>2019-12-19</td>\n",
       "      <td>Uruguay</td>\n",
       "      <td>2019-12-19</td>\n",
       "    </tr>\n",
       "  </tbody>\n",
       "</table>\n",
       "</div>"
      ],
      "text/plain": [
       "  country_full  rank  total_points   rank_date  country        date\n",
       "0      Belgium     1          1765  2019-12-19  Belgium  2019-12-19\n",
       "1       France     2          1733  2019-12-19   France  2019-12-19\n",
       "2       Brazil     3          1712  2019-12-19   Brazil  2019-12-19\n",
       "3      England     4          1661  2019-12-19  England  2019-12-19\n",
       "4      Uruguay     5          1645  2019-12-19  Uruguay  2019-12-19"
      ]
     },
     "execution_count": 309,
     "metadata": {},
     "output_type": "execute_result"
    }
   ],
   "source": [
    "#Renaming 'rank-date' column to 'date', in preparation for merge with df1\n",
    "df1['date'] = df1['rank_date']\n",
    "df1.head()"
   ]
  },
  {
   "cell_type": "markdown",
   "metadata": {},
   "source": [
    "# CHOOSING DF1 COLUMNS TO FOCUS ON\n",
    "The 'total_points' column serves a similar purpose as the 'rank' column which doesn't have the outliers. I decided to keep the 'rank' column to show a country's improvement in place of the 'total_points column. I also decided to include the 'date' column to complete tracking of improvement and the 'country' column."
   ]
  },
  {
   "cell_type": "code",
   "execution_count": 310,
   "metadata": {},
   "outputs": [],
   "source": [
    "df1 = df1[['rank', 'date', 'country']]"
   ]
  },
  {
   "cell_type": "code",
   "execution_count": 311,
   "metadata": {
    "scrolled": false
   },
   "outputs": [
    {
     "data": {
      "text/html": [
       "<div>\n",
       "<style scoped>\n",
       "    .dataframe tbody tr th:only-of-type {\n",
       "        vertical-align: middle;\n",
       "    }\n",
       "\n",
       "    .dataframe tbody tr th {\n",
       "        vertical-align: top;\n",
       "    }\n",
       "\n",
       "    .dataframe thead th {\n",
       "        text-align: right;\n",
       "    }\n",
       "</style>\n",
       "<table border=\"1\" class=\"dataframe\">\n",
       "  <thead>\n",
       "    <tr style=\"text-align: right;\">\n",
       "      <th></th>\n",
       "      <th>rank</th>\n",
       "      <th>date</th>\n",
       "      <th>country</th>\n",
       "    </tr>\n",
       "  </thead>\n",
       "  <tbody>\n",
       "    <tr>\n",
       "      <td>0</td>\n",
       "      <td>1</td>\n",
       "      <td>2019-12-19</td>\n",
       "      <td>Belgium</td>\n",
       "    </tr>\n",
       "    <tr>\n",
       "      <td>1</td>\n",
       "      <td>2</td>\n",
       "      <td>2019-12-19</td>\n",
       "      <td>France</td>\n",
       "    </tr>\n",
       "    <tr>\n",
       "      <td>2</td>\n",
       "      <td>3</td>\n",
       "      <td>2019-12-19</td>\n",
       "      <td>Brazil</td>\n",
       "    </tr>\n",
       "    <tr>\n",
       "      <td>3</td>\n",
       "      <td>4</td>\n",
       "      <td>2019-12-19</td>\n",
       "      <td>England</td>\n",
       "    </tr>\n",
       "    <tr>\n",
       "      <td>4</td>\n",
       "      <td>5</td>\n",
       "      <td>2019-12-19</td>\n",
       "      <td>Uruguay</td>\n",
       "    </tr>\n",
       "  </tbody>\n",
       "</table>\n",
       "</div>"
      ],
      "text/plain": [
       "   rank        date  country\n",
       "0     1  2019-12-19  Belgium\n",
       "1     2  2019-12-19   France\n",
       "2     3  2019-12-19   Brazil\n",
       "3     4  2019-12-19  England\n",
       "4     5  2019-12-19  Uruguay"
      ]
     },
     "execution_count": 311,
     "metadata": {},
     "output_type": "execute_result"
    }
   ],
   "source": [
    "df1.head()"
   ]
  },
  {
   "cell_type": "code",
   "execution_count": 312,
   "metadata": {},
   "outputs": [
    {
     "name": "stdout",
     "output_type": "stream",
     "text": [
      "<class 'pandas.core.frame.DataFrame'>\n",
      "Int64Index: 60754 entries, 0 to 60753\n",
      "Data columns (total 3 columns):\n",
      "rank       60754 non-null int64\n",
      "date       60754 non-null object\n",
      "country    60754 non-null object\n",
      "dtypes: int64(1), object(2)\n",
      "memory usage: 1.9+ MB\n"
     ]
    }
   ],
   "source": [
    "df1.info()"
   ]
  },
  {
   "cell_type": "code",
   "execution_count": 313,
   "metadata": {},
   "outputs": [],
   "source": [
    "from warnings import simplefilter\n",
    "# ignore all future warnings\n",
    "simplefilter(action='ignore', category=FutureWarning)\n",
    "\n",
    "#The date column in df1 is object. Changing to numerical\n",
    "df1['date'] = df1['date'].str.replace(\"-\",\"\")\n",
    "df1['date'] = df1['date'].astype(int)\n"
   ]
  },
  {
   "cell_type": "code",
   "execution_count": 314,
   "metadata": {
    "scrolled": true
   },
   "outputs": [
    {
     "name": "stdout",
     "output_type": "stream",
     "text": [
      "<class 'pandas.core.frame.DataFrame'>\n",
      "Int64Index: 60754 entries, 0 to 60753\n",
      "Data columns (total 3 columns):\n",
      "rank       60754 non-null int64\n",
      "date       60754 non-null int64\n",
      "country    60754 non-null object\n",
      "dtypes: int64(2), object(1)\n",
      "memory usage: 1.9+ MB\n"
     ]
    }
   ],
   "source": [
    "df1.info()"
   ]
  },
  {
   "cell_type": "markdown",
   "metadata": {},
   "source": [
    "# WRANGLING THE SECOND DATAFRAME"
   ]
  },
  {
   "cell_type": "code",
   "execution_count": 315,
   "metadata": {
    "scrolled": true
   },
   "outputs": [
    {
     "data": {
      "text/html": [
       "<div>\n",
       "<style scoped>\n",
       "    .dataframe tbody tr th:only-of-type {\n",
       "        vertical-align: middle;\n",
       "    }\n",
       "\n",
       "    .dataframe tbody tr th {\n",
       "        vertical-align: top;\n",
       "    }\n",
       "\n",
       "    .dataframe thead th {\n",
       "        text-align: right;\n",
       "    }\n",
       "</style>\n",
       "<table border=\"1\" class=\"dataframe\">\n",
       "  <thead>\n",
       "    <tr style=\"text-align: right;\">\n",
       "      <th></th>\n",
       "      <th>Name Football Player</th>\n",
       "      <th>International</th>\n",
       "      <th>Date of birth</th>\n",
       "      <th>Place of birth</th>\n",
       "      <th>Country of birth</th>\n",
       "      <th>Nationality Father</th>\n",
       "      <th>Nationality Mother</th>\n",
       "      <th>Nationality Grandfather</th>\n",
       "      <th>Nationality Grandmother</th>\n",
       "      <th>Foreign-born</th>\n",
       "      <th>Contextual-Nationality</th>\n",
       "      <th>FIFA World Cup</th>\n",
       "    </tr>\n",
       "  </thead>\n",
       "  <tbody>\n",
       "    <tr>\n",
       "      <td>0</td>\n",
       "      <td>Ángel Fernando Bossio Garcilández (Ángel Bossi...</td>\n",
       "      <td>Argentina</td>\n",
       "      <td>5 May 1905</td>\n",
       "      <td>Avellaneda</td>\n",
       "      <td>Argentina</td>\n",
       "      <td>NaN</td>\n",
       "      <td>NaN</td>\n",
       "      <td>NaN</td>\n",
       "      <td>NaN</td>\n",
       "      <td>0</td>\n",
       "      <td>0</td>\n",
       "      <td>1930</td>\n",
       "    </tr>\n",
       "    <tr>\n",
       "      <td>1</td>\n",
       "      <td>Juan Botasso</td>\n",
       "      <td>Argentina</td>\n",
       "      <td>23 October 1905</td>\n",
       "      <td>Buenos Aires</td>\n",
       "      <td>Argentina</td>\n",
       "      <td>NaN</td>\n",
       "      <td>NaN</td>\n",
       "      <td>NaN</td>\n",
       "      <td>NaN</td>\n",
       "      <td>0</td>\n",
       "      <td>0</td>\n",
       "      <td>1930</td>\n",
       "    </tr>\n",
       "    <tr>\n",
       "      <td>2</td>\n",
       "      <td>Roberto Eugenio \"Cherro\" Cerro (Roberto Cherro)</td>\n",
       "      <td>Argentina</td>\n",
       "      <td>23 Ferbruary 1907</td>\n",
       "      <td>Barracas</td>\n",
       "      <td>Argentina</td>\n",
       "      <td>NaN</td>\n",
       "      <td>NaN</td>\n",
       "      <td>NaN</td>\n",
       "      <td>NaN</td>\n",
       "      <td>0</td>\n",
       "      <td>0</td>\n",
       "      <td>1930</td>\n",
       "    </tr>\n",
       "    <tr>\n",
       "      <td>3</td>\n",
       "      <td>Alberto Chividini</td>\n",
       "      <td>Argentina</td>\n",
       "      <td>23 February 1907</td>\n",
       "      <td>Buenos Aires</td>\n",
       "      <td>Argentina</td>\n",
       "      <td>NaN</td>\n",
       "      <td>NaN</td>\n",
       "      <td>NaN</td>\n",
       "      <td>NaN</td>\n",
       "      <td>0</td>\n",
       "      <td>0</td>\n",
       "      <td>1930</td>\n",
       "    </tr>\n",
       "    <tr>\n",
       "      <td>4</td>\n",
       "      <td>Attilio José  Demaria (\"Attilio Demaria\")</td>\n",
       "      <td>Argentina</td>\n",
       "      <td>19 March 1909</td>\n",
       "      <td>Buenos Aires</td>\n",
       "      <td>Argentina</td>\n",
       "      <td>Argentina</td>\n",
       "      <td>Argentina</td>\n",
       "      <td>NaN</td>\n",
       "      <td>NaN</td>\n",
       "      <td>0</td>\n",
       "      <td>0</td>\n",
       "      <td>1930</td>\n",
       "    </tr>\n",
       "  </tbody>\n",
       "</table>\n",
       "</div>"
      ],
      "text/plain": [
       "                                Name Football Player International   \\\n",
       "0  Ángel Fernando Bossio Garcilández (Ángel Bossi...      Argentina   \n",
       "1                                       Juan Botasso      Argentina   \n",
       "2    Roberto Eugenio \"Cherro\" Cerro (Roberto Cherro)      Argentina   \n",
       "3                                  Alberto Chividini      Argentina   \n",
       "4          Attilio José  Demaria (\"Attilio Demaria\")      Argentina   \n",
       "\n",
       "       Date of birth Place of birth  Country of birth Nationality Father  \\\n",
       "0        5 May 1905       Avellaneda        Argentina                NaN   \n",
       "1    23 October 1905    Buenos Aires        Argentina                NaN   \n",
       "2  23 Ferbruary 1907        Barracas        Argentina                NaN   \n",
       "3   23 February 1907    Buenos Aires        Argentina                NaN   \n",
       "4     19 March 1909     Buenos Aires        Argentina          Argentina   \n",
       "\n",
       "  Nationality Mother Nationality Grandfather Nationality Grandmother  \\\n",
       "0                NaN                     NaN                     NaN   \n",
       "1                NaN                     NaN                     NaN   \n",
       "2                NaN                     NaN                     NaN   \n",
       "3                NaN                     NaN                     NaN   \n",
       "4          Argentina                     NaN                     NaN   \n",
       "\n",
       "   Foreign-born  Contextual-Nationality  FIFA World Cup  \n",
       "0             0                       0            1930  \n",
       "1             0                       0            1930  \n",
       "2             0                       0            1930  \n",
       "3             0                       0            1930  \n",
       "4             0                       0            1930  "
      ]
     },
     "execution_count": 315,
     "metadata": {},
     "output_type": "execute_result"
    }
   ],
   "source": [
    "df2 = pd.read_excel('Migrants+World+Cup+1930-2018+HARVARD.xlsx')\n",
    "\n",
    "df2.head()"
   ]
  },
  {
   "cell_type": "code",
   "execution_count": 316,
   "metadata": {
    "scrolled": true
   },
   "outputs": [
    {
     "data": {
      "text/plain": [
       "Index(['Name Football Player', 'International ', 'Date of birth',\n",
       "       'Place of birth ', 'Country of birth', 'Nationality Father',\n",
       "       'Nationality Mother', 'Nationality Grandfather',\n",
       "       'Nationality Grandmother', 'Foreign-born', 'Contextual-Nationality',\n",
       "       'FIFA World Cup'],\n",
       "      dtype='object')"
      ]
     },
     "execution_count": 316,
     "metadata": {},
     "output_type": "execute_result"
    }
   ],
   "source": [
    "df2.columns"
   ]
  },
  {
   "cell_type": "code",
   "execution_count": 317,
   "metadata": {},
   "outputs": [
    {
     "data": {
      "text/html": [
       "<div>\n",
       "<style scoped>\n",
       "    .dataframe tbody tr th:only-of-type {\n",
       "        vertical-align: middle;\n",
       "    }\n",
       "\n",
       "    .dataframe tbody tr th {\n",
       "        vertical-align: top;\n",
       "    }\n",
       "\n",
       "    .dataframe thead th {\n",
       "        text-align: right;\n",
       "    }\n",
       "</style>\n",
       "<table border=\"1\" class=\"dataframe\">\n",
       "  <thead>\n",
       "    <tr style=\"text-align: right;\">\n",
       "      <th></th>\n",
       "      <th>Name Football Player</th>\n",
       "      <th>International</th>\n",
       "      <th>Date of birth</th>\n",
       "      <th>Place of birth</th>\n",
       "      <th>Country of birth</th>\n",
       "      <th>Nationality Father</th>\n",
       "      <th>Nationality Mother</th>\n",
       "      <th>Nationality Grandfather</th>\n",
       "      <th>Nationality Grandmother</th>\n",
       "      <th>Foreign-born</th>\n",
       "      <th>Contextual-Nationality</th>\n",
       "      <th>FIFA World Cup</th>\n",
       "    </tr>\n",
       "  </thead>\n",
       "  <tbody>\n",
       "    <tr>\n",
       "      <td>0</td>\n",
       "      <td>Ángel Fernando Bossio Garcilández (Ángel Bossi...</td>\n",
       "      <td>Argentina</td>\n",
       "      <td>5 May 1905</td>\n",
       "      <td>Avellaneda</td>\n",
       "      <td>Argentina</td>\n",
       "      <td>NaN</td>\n",
       "      <td>NaN</td>\n",
       "      <td>NaN</td>\n",
       "      <td>NaN</td>\n",
       "      <td>0</td>\n",
       "      <td>0</td>\n",
       "      <td>1930</td>\n",
       "    </tr>\n",
       "    <tr>\n",
       "      <td>1</td>\n",
       "      <td>Juan Botasso</td>\n",
       "      <td>Argentina</td>\n",
       "      <td>23 October 1905</td>\n",
       "      <td>Buenos Aires</td>\n",
       "      <td>Argentina</td>\n",
       "      <td>NaN</td>\n",
       "      <td>NaN</td>\n",
       "      <td>NaN</td>\n",
       "      <td>NaN</td>\n",
       "      <td>0</td>\n",
       "      <td>0</td>\n",
       "      <td>1930</td>\n",
       "    </tr>\n",
       "    <tr>\n",
       "      <td>2</td>\n",
       "      <td>Roberto Eugenio \"Cherro\" Cerro (Roberto Cherro)</td>\n",
       "      <td>Argentina</td>\n",
       "      <td>23 Ferbruary 1907</td>\n",
       "      <td>Barracas</td>\n",
       "      <td>Argentina</td>\n",
       "      <td>NaN</td>\n",
       "      <td>NaN</td>\n",
       "      <td>NaN</td>\n",
       "      <td>NaN</td>\n",
       "      <td>0</td>\n",
       "      <td>0</td>\n",
       "      <td>1930</td>\n",
       "    </tr>\n",
       "    <tr>\n",
       "      <td>3</td>\n",
       "      <td>Alberto Chividini</td>\n",
       "      <td>Argentina</td>\n",
       "      <td>23 February 1907</td>\n",
       "      <td>Buenos Aires</td>\n",
       "      <td>Argentina</td>\n",
       "      <td>NaN</td>\n",
       "      <td>NaN</td>\n",
       "      <td>NaN</td>\n",
       "      <td>NaN</td>\n",
       "      <td>0</td>\n",
       "      <td>0</td>\n",
       "      <td>1930</td>\n",
       "    </tr>\n",
       "    <tr>\n",
       "      <td>4</td>\n",
       "      <td>Attilio José  Demaria (\"Attilio Demaria\")</td>\n",
       "      <td>Argentina</td>\n",
       "      <td>19 March 1909</td>\n",
       "      <td>Buenos Aires</td>\n",
       "      <td>Argentina</td>\n",
       "      <td>Argentina</td>\n",
       "      <td>Argentina</td>\n",
       "      <td>NaN</td>\n",
       "      <td>NaN</td>\n",
       "      <td>0</td>\n",
       "      <td>0</td>\n",
       "      <td>1930</td>\n",
       "    </tr>\n",
       "  </tbody>\n",
       "</table>\n",
       "</div>"
      ],
      "text/plain": [
       "                                Name Football Player International   \\\n",
       "0  Ángel Fernando Bossio Garcilández (Ángel Bossi...      Argentina   \n",
       "1                                       Juan Botasso      Argentina   \n",
       "2    Roberto Eugenio \"Cherro\" Cerro (Roberto Cherro)      Argentina   \n",
       "3                                  Alberto Chividini      Argentina   \n",
       "4          Attilio José  Demaria (\"Attilio Demaria\")      Argentina   \n",
       "\n",
       "       Date of birth Place of birth  Country of birth Nationality Father  \\\n",
       "0        5 May 1905       Avellaneda        Argentina                NaN   \n",
       "1    23 October 1905    Buenos Aires        Argentina                NaN   \n",
       "2  23 Ferbruary 1907        Barracas        Argentina                NaN   \n",
       "3   23 February 1907    Buenos Aires        Argentina                NaN   \n",
       "4     19 March 1909     Buenos Aires        Argentina          Argentina   \n",
       "\n",
       "  Nationality Mother Nationality Grandfather Nationality Grandmother  \\\n",
       "0                NaN                     NaN                     NaN   \n",
       "1                NaN                     NaN                     NaN   \n",
       "2                NaN                     NaN                     NaN   \n",
       "3                NaN                     NaN                     NaN   \n",
       "4          Argentina                     NaN                     NaN   \n",
       "\n",
       "   Foreign-born  Contextual-Nationality  FIFA World Cup  \n",
       "0             0                       0            1930  \n",
       "1             0                       0            1930  \n",
       "2             0                       0            1930  \n",
       "3             0                       0            1930  \n",
       "4             0                       0            1930  "
      ]
     },
     "execution_count": 317,
     "metadata": {},
     "output_type": "execute_result"
    }
   ],
   "source": [
    "#Removing duplicates to try and minimize the size of the final dataframe\n",
    "df2  = df2.drop_duplicates()\n",
    "df2.head()"
   ]
  },
  {
   "cell_type": "markdown",
   "metadata": {},
   "source": [
    "# REMOVING WHITESPACE IN COLUMN NAMES\n",
    "The \"International\" column in df2 has a space at the end of the name which is not conducive to slicing so I eliminated all whitespace from the names of the columns."
   ]
  },
  {
   "cell_type": "code",
   "execution_count": 318,
   "metadata": {},
   "outputs": [
    {
     "data": {
      "text/plain": [
       "Index(['NameFootballPlayer', 'International', 'Dateofbirth', 'Placeofbirth',\n",
       "       'Countryofbirth', 'NationalityFather', 'NationalityMother',\n",
       "       'NationalityGrandfather', 'NationalityGrandmother', 'Foreign-born',\n",
       "       'Contextual-Nationality', 'FIFAWorldCup'],\n",
       "      dtype='object')"
      ]
     },
     "execution_count": 318,
     "metadata": {},
     "output_type": "execute_result"
    }
   ],
   "source": [
    "df2.columns = [c.replace(' ', '') for c in df2.columns]\n",
    "df2.columns"
   ]
  },
  {
   "cell_type": "code",
   "execution_count": 319,
   "metadata": {},
   "outputs": [
    {
     "name": "stdout",
     "output_type": "stream",
     "text": [
      "<class 'pandas.core.frame.DataFrame'>\n",
      "Int64Index: 10129 entries, 0 to 10136\n",
      "Data columns (total 12 columns):\n",
      "NameFootballPlayer        10129 non-null object\n",
      "International             10129 non-null object\n",
      "Dateofbirth               10129 non-null object\n",
      "Placeofbirth              10129 non-null object\n",
      "Countryofbirth            10129 non-null object\n",
      "NationalityFather         1190 non-null object\n",
      "NationalityMother         1129 non-null object\n",
      "NationalityGrandfather    175 non-null object\n",
      "NationalityGrandmother    129 non-null object\n",
      "Foreign-born              10129 non-null int64\n",
      "Contextual-Nationality    10129 non-null int64\n",
      "FIFAWorldCup              10129 non-null int64\n",
      "dtypes: int64(3), object(9)\n",
      "memory usage: 1.0+ MB\n"
     ]
    }
   ],
   "source": [
    "df2.info()"
   ]
  },
  {
   "cell_type": "markdown",
   "metadata": {},
   "source": [
    "# CHOOSING DF2 COLUMNS TO FOCUS ON: \n",
    "I decided to focus on these columns for my final analysis: 'NameFootballPlayer', 'International', 'Foreign-born', 'FIFAWorldCup'. The first one gives us the name of the football player while the second column indicates which country they played for in the World Cup. The 'FIFAWorldCup' column indicates which year the player participated in the World Cup. The 'Foreign-born' column indicates whether or not the player was born in the country they played for (0) or not (1) so I transformed it into a Boolean type column.\n",
    "\n",
    "In preparation for a merge with DF1 I renamed the 'International' column to 'country' and the 'FIFAWorldCup' column to 'date'."
   ]
  },
  {
   "cell_type": "code",
   "execution_count": 320,
   "metadata": {},
   "outputs": [
    {
     "data": {
      "text/html": [
       "<div>\n",
       "<style scoped>\n",
       "    .dataframe tbody tr th:only-of-type {\n",
       "        vertical-align: middle;\n",
       "    }\n",
       "\n",
       "    .dataframe tbody tr th {\n",
       "        vertical-align: top;\n",
       "    }\n",
       "\n",
       "    .dataframe thead th {\n",
       "        text-align: right;\n",
       "    }\n",
       "</style>\n",
       "<table border=\"1\" class=\"dataframe\">\n",
       "  <thead>\n",
       "    <tr style=\"text-align: right;\">\n",
       "      <th></th>\n",
       "      <th>NameFootballPlayer</th>\n",
       "      <th>International</th>\n",
       "      <th>Foreign-born</th>\n",
       "      <th>FIFAWorldCup</th>\n",
       "    </tr>\n",
       "  </thead>\n",
       "  <tbody>\n",
       "    <tr>\n",
       "      <td>0</td>\n",
       "      <td>Ángel Fernando Bossio Garcilández (Ángel Bossi...</td>\n",
       "      <td>Argentina</td>\n",
       "      <td>0</td>\n",
       "      <td>1930</td>\n",
       "    </tr>\n",
       "    <tr>\n",
       "      <td>1</td>\n",
       "      <td>Juan Botasso</td>\n",
       "      <td>Argentina</td>\n",
       "      <td>0</td>\n",
       "      <td>1930</td>\n",
       "    </tr>\n",
       "    <tr>\n",
       "      <td>2</td>\n",
       "      <td>Roberto Eugenio \"Cherro\" Cerro (Roberto Cherro)</td>\n",
       "      <td>Argentina</td>\n",
       "      <td>0</td>\n",
       "      <td>1930</td>\n",
       "    </tr>\n",
       "    <tr>\n",
       "      <td>3</td>\n",
       "      <td>Alberto Chividini</td>\n",
       "      <td>Argentina</td>\n",
       "      <td>0</td>\n",
       "      <td>1930</td>\n",
       "    </tr>\n",
       "    <tr>\n",
       "      <td>4</td>\n",
       "      <td>Attilio José  Demaria (\"Attilio Demaria\")</td>\n",
       "      <td>Argentina</td>\n",
       "      <td>0</td>\n",
       "      <td>1930</td>\n",
       "    </tr>\n",
       "  </tbody>\n",
       "</table>\n",
       "</div>"
      ],
      "text/plain": [
       "                                  NameFootballPlayer International  \\\n",
       "0  Ángel Fernando Bossio Garcilández (Ángel Bossi...     Argentina   \n",
       "1                                       Juan Botasso     Argentina   \n",
       "2    Roberto Eugenio \"Cherro\" Cerro (Roberto Cherro)     Argentina   \n",
       "3                                  Alberto Chividini     Argentina   \n",
       "4          Attilio José  Demaria (\"Attilio Demaria\")     Argentina   \n",
       "\n",
       "   Foreign-born  FIFAWorldCup  \n",
       "0             0          1930  \n",
       "1             0          1930  \n",
       "2             0          1930  \n",
       "3             0          1930  \n",
       "4             0          1930  "
      ]
     },
     "execution_count": 320,
     "metadata": {},
     "output_type": "execute_result"
    }
   ],
   "source": [
    "cols = ['NameFootballPlayer', 'International','Foreign-born', 'FIFAWorldCup' ]\n",
    "df2 = df2[cols]\n",
    "df2.head()"
   ]
  },
  {
   "cell_type": "code",
   "execution_count": 321,
   "metadata": {},
   "outputs": [
    {
     "name": "stdout",
     "output_type": "stream",
     "text": [
      "<class 'pandas.core.frame.DataFrame'>\n",
      "Int64Index: 10129 entries, 0 to 10136\n",
      "Data columns (total 4 columns):\n",
      "NameFootballPlayer    10129 non-null object\n",
      "International         10129 non-null object\n",
      "Foreign-born          10129 non-null int64\n",
      "FIFAWorldCup          10129 non-null int64\n",
      "dtypes: int64(2), object(2)\n",
      "memory usage: 395.7+ KB\n"
     ]
    }
   ],
   "source": [
    "df2.info()"
   ]
  },
  {
   "cell_type": "code",
   "execution_count": 322,
   "metadata": {},
   "outputs": [
    {
     "data": {
      "text/html": [
       "<div>\n",
       "<style scoped>\n",
       "    .dataframe tbody tr th:only-of-type {\n",
       "        vertical-align: middle;\n",
       "    }\n",
       "\n",
       "    .dataframe tbody tr th {\n",
       "        vertical-align: top;\n",
       "    }\n",
       "\n",
       "    .dataframe thead th {\n",
       "        text-align: right;\n",
       "    }\n",
       "</style>\n",
       "<table border=\"1\" class=\"dataframe\">\n",
       "  <thead>\n",
       "    <tr style=\"text-align: right;\">\n",
       "      <th></th>\n",
       "      <th>NameFootballPlayer</th>\n",
       "      <th>International</th>\n",
       "      <th>Foreign-born</th>\n",
       "      <th>FIFAWorldCup</th>\n",
       "    </tr>\n",
       "  </thead>\n",
       "  <tbody>\n",
       "    <tr>\n",
       "      <td>0</td>\n",
       "      <td>Ángel Fernando Bossio Garcilández (Ángel Bossi...</td>\n",
       "      <td>Argentina</td>\n",
       "      <td>False</td>\n",
       "      <td>1930</td>\n",
       "    </tr>\n",
       "    <tr>\n",
       "      <td>1</td>\n",
       "      <td>Juan Botasso</td>\n",
       "      <td>Argentina</td>\n",
       "      <td>False</td>\n",
       "      <td>1930</td>\n",
       "    </tr>\n",
       "    <tr>\n",
       "      <td>2</td>\n",
       "      <td>Roberto Eugenio \"Cherro\" Cerro (Roberto Cherro)</td>\n",
       "      <td>Argentina</td>\n",
       "      <td>False</td>\n",
       "      <td>1930</td>\n",
       "    </tr>\n",
       "    <tr>\n",
       "      <td>3</td>\n",
       "      <td>Alberto Chividini</td>\n",
       "      <td>Argentina</td>\n",
       "      <td>False</td>\n",
       "      <td>1930</td>\n",
       "    </tr>\n",
       "    <tr>\n",
       "      <td>4</td>\n",
       "      <td>Attilio José  Demaria (\"Attilio Demaria\")</td>\n",
       "      <td>Argentina</td>\n",
       "      <td>False</td>\n",
       "      <td>1930</td>\n",
       "    </tr>\n",
       "  </tbody>\n",
       "</table>\n",
       "</div>"
      ],
      "text/plain": [
       "                                  NameFootballPlayer International  \\\n",
       "0  Ángel Fernando Bossio Garcilández (Ángel Bossi...     Argentina   \n",
       "1                                       Juan Botasso     Argentina   \n",
       "2    Roberto Eugenio \"Cherro\" Cerro (Roberto Cherro)     Argentina   \n",
       "3                                  Alberto Chividini     Argentina   \n",
       "4          Attilio José  Demaria (\"Attilio Demaria\")     Argentina   \n",
       "\n",
       "   Foreign-born  FIFAWorldCup  \n",
       "0         False          1930  \n",
       "1         False          1930  \n",
       "2         False          1930  \n",
       "3         False          1930  \n",
       "4         False          1930  "
      ]
     },
     "execution_count": 322,
     "metadata": {},
     "output_type": "execute_result"
    }
   ],
   "source": [
    "df2['Foreign-born'] = df2['Foreign-born'].astype(bool)\n",
    "df2.head()"
   ]
  },
  {
   "cell_type": "code",
   "execution_count": 323,
   "metadata": {},
   "outputs": [
    {
     "name": "stdout",
     "output_type": "stream",
     "text": [
      "<class 'pandas.core.frame.DataFrame'>\n",
      "Int64Index: 10129 entries, 0 to 10136\n",
      "Data columns (total 4 columns):\n",
      "NameFootballPlayer    10129 non-null object\n",
      "International         10129 non-null object\n",
      "Foreign-born          10129 non-null bool\n",
      "FIFAWorldCup          10129 non-null int64\n",
      "dtypes: bool(1), int64(1), object(2)\n",
      "memory usage: 326.4+ KB\n"
     ]
    }
   ],
   "source": [
    "df2.info()"
   ]
  },
  {
   "cell_type": "code",
   "execution_count": 324,
   "metadata": {},
   "outputs": [
    {
     "data": {
      "text/html": [
       "<div>\n",
       "<style scoped>\n",
       "    .dataframe tbody tr th:only-of-type {\n",
       "        vertical-align: middle;\n",
       "    }\n",
       "\n",
       "    .dataframe tbody tr th {\n",
       "        vertical-align: top;\n",
       "    }\n",
       "\n",
       "    .dataframe thead th {\n",
       "        text-align: right;\n",
       "    }\n",
       "</style>\n",
       "<table border=\"1\" class=\"dataframe\">\n",
       "  <thead>\n",
       "    <tr style=\"text-align: right;\">\n",
       "      <th></th>\n",
       "      <th>NameFootballPlayer</th>\n",
       "      <th>International</th>\n",
       "      <th>Foreign-born</th>\n",
       "      <th>FIFAWorldCup</th>\n",
       "      <th>country</th>\n",
       "    </tr>\n",
       "  </thead>\n",
       "  <tbody>\n",
       "    <tr>\n",
       "      <td>0</td>\n",
       "      <td>Ángel Fernando Bossio Garcilández (Ángel Bossi...</td>\n",
       "      <td>Argentina</td>\n",
       "      <td>False</td>\n",
       "      <td>1930</td>\n",
       "      <td>Argentina</td>\n",
       "    </tr>\n",
       "    <tr>\n",
       "      <td>1</td>\n",
       "      <td>Juan Botasso</td>\n",
       "      <td>Argentina</td>\n",
       "      <td>False</td>\n",
       "      <td>1930</td>\n",
       "      <td>Argentina</td>\n",
       "    </tr>\n",
       "    <tr>\n",
       "      <td>2</td>\n",
       "      <td>Roberto Eugenio \"Cherro\" Cerro (Roberto Cherro)</td>\n",
       "      <td>Argentina</td>\n",
       "      <td>False</td>\n",
       "      <td>1930</td>\n",
       "      <td>Argentina</td>\n",
       "    </tr>\n",
       "    <tr>\n",
       "      <td>3</td>\n",
       "      <td>Alberto Chividini</td>\n",
       "      <td>Argentina</td>\n",
       "      <td>False</td>\n",
       "      <td>1930</td>\n",
       "      <td>Argentina</td>\n",
       "    </tr>\n",
       "    <tr>\n",
       "      <td>4</td>\n",
       "      <td>Attilio José  Demaria (\"Attilio Demaria\")</td>\n",
       "      <td>Argentina</td>\n",
       "      <td>False</td>\n",
       "      <td>1930</td>\n",
       "      <td>Argentina</td>\n",
       "    </tr>\n",
       "  </tbody>\n",
       "</table>\n",
       "</div>"
      ],
      "text/plain": [
       "                                  NameFootballPlayer International  \\\n",
       "0  Ángel Fernando Bossio Garcilández (Ángel Bossi...     Argentina   \n",
       "1                                       Juan Botasso     Argentina   \n",
       "2    Roberto Eugenio \"Cherro\" Cerro (Roberto Cherro)     Argentina   \n",
       "3                                  Alberto Chividini     Argentina   \n",
       "4          Attilio José  Demaria (\"Attilio Demaria\")     Argentina   \n",
       "\n",
       "   Foreign-born  FIFAWorldCup    country  \n",
       "0         False          1930  Argentina  \n",
       "1         False          1930  Argentina  \n",
       "2         False          1930  Argentina  \n",
       "3         False          1930  Argentina  \n",
       "4         False          1930  Argentina  "
      ]
     },
     "execution_count": 324,
     "metadata": {},
     "output_type": "execute_result"
    }
   ],
   "source": [
    "#Renaming 'International' column to 'country'\n",
    "df2['country'] = df2['International']\n",
    "df2.head()"
   ]
  },
  {
   "cell_type": "code",
   "execution_count": 325,
   "metadata": {},
   "outputs": [
    {
     "data": {
      "text/html": [
       "<div>\n",
       "<style scoped>\n",
       "    .dataframe tbody tr th:only-of-type {\n",
       "        vertical-align: middle;\n",
       "    }\n",
       "\n",
       "    .dataframe tbody tr th {\n",
       "        vertical-align: top;\n",
       "    }\n",
       "\n",
       "    .dataframe thead th {\n",
       "        text-align: right;\n",
       "    }\n",
       "</style>\n",
       "<table border=\"1\" class=\"dataframe\">\n",
       "  <thead>\n",
       "    <tr style=\"text-align: right;\">\n",
       "      <th></th>\n",
       "      <th>NameFootballPlayer</th>\n",
       "      <th>Foreign-born</th>\n",
       "      <th>FIFAWorldCup</th>\n",
       "      <th>country</th>\n",
       "    </tr>\n",
       "  </thead>\n",
       "  <tbody>\n",
       "    <tr>\n",
       "      <td>0</td>\n",
       "      <td>Ángel Fernando Bossio Garcilández (Ángel Bossi...</td>\n",
       "      <td>False</td>\n",
       "      <td>1930</td>\n",
       "      <td>Argentina</td>\n",
       "    </tr>\n",
       "    <tr>\n",
       "      <td>1</td>\n",
       "      <td>Juan Botasso</td>\n",
       "      <td>False</td>\n",
       "      <td>1930</td>\n",
       "      <td>Argentina</td>\n",
       "    </tr>\n",
       "    <tr>\n",
       "      <td>2</td>\n",
       "      <td>Roberto Eugenio \"Cherro\" Cerro (Roberto Cherro)</td>\n",
       "      <td>False</td>\n",
       "      <td>1930</td>\n",
       "      <td>Argentina</td>\n",
       "    </tr>\n",
       "    <tr>\n",
       "      <td>3</td>\n",
       "      <td>Alberto Chividini</td>\n",
       "      <td>False</td>\n",
       "      <td>1930</td>\n",
       "      <td>Argentina</td>\n",
       "    </tr>\n",
       "    <tr>\n",
       "      <td>4</td>\n",
       "      <td>Attilio José  Demaria (\"Attilio Demaria\")</td>\n",
       "      <td>False</td>\n",
       "      <td>1930</td>\n",
       "      <td>Argentina</td>\n",
       "    </tr>\n",
       "  </tbody>\n",
       "</table>\n",
       "</div>"
      ],
      "text/plain": [
       "                                  NameFootballPlayer  Foreign-born  \\\n",
       "0  Ángel Fernando Bossio Garcilández (Ángel Bossi...         False   \n",
       "1                                       Juan Botasso         False   \n",
       "2    Roberto Eugenio \"Cherro\" Cerro (Roberto Cherro)         False   \n",
       "3                                  Alberto Chividini         False   \n",
       "4          Attilio José  Demaria (\"Attilio Demaria\")         False   \n",
       "\n",
       "   FIFAWorldCup    country  \n",
       "0          1930  Argentina  \n",
       "1          1930  Argentina  \n",
       "2          1930  Argentina  \n",
       "3          1930  Argentina  \n",
       "4          1930  Argentina  "
      ]
     },
     "execution_count": 325,
     "metadata": {},
     "output_type": "execute_result"
    }
   ],
   "source": [
    "df2 = df2[['NameFootballPlayer', 'Foreign-born', 'FIFAWorldCup', 'country']]\n",
    "df2.head()"
   ]
  },
  {
   "cell_type": "code",
   "execution_count": 326,
   "metadata": {
    "scrolled": true
   },
   "outputs": [
    {
     "data": {
      "text/html": [
       "<div>\n",
       "<style scoped>\n",
       "    .dataframe tbody tr th:only-of-type {\n",
       "        vertical-align: middle;\n",
       "    }\n",
       "\n",
       "    .dataframe tbody tr th {\n",
       "        vertical-align: top;\n",
       "    }\n",
       "\n",
       "    .dataframe thead th {\n",
       "        text-align: right;\n",
       "    }\n",
       "</style>\n",
       "<table border=\"1\" class=\"dataframe\">\n",
       "  <thead>\n",
       "    <tr style=\"text-align: right;\">\n",
       "      <th></th>\n",
       "      <th>NameFootballPlayer</th>\n",
       "      <th>Foreign-born</th>\n",
       "      <th>FIFAWorldCup</th>\n",
       "      <th>country</th>\n",
       "      <th>date</th>\n",
       "    </tr>\n",
       "  </thead>\n",
       "  <tbody>\n",
       "    <tr>\n",
       "      <td>0</td>\n",
       "      <td>Ángel Fernando Bossio Garcilández (Ángel Bossi...</td>\n",
       "      <td>False</td>\n",
       "      <td>1930</td>\n",
       "      <td>Argentina</td>\n",
       "      <td>1930</td>\n",
       "    </tr>\n",
       "    <tr>\n",
       "      <td>1</td>\n",
       "      <td>Juan Botasso</td>\n",
       "      <td>False</td>\n",
       "      <td>1930</td>\n",
       "      <td>Argentina</td>\n",
       "      <td>1930</td>\n",
       "    </tr>\n",
       "    <tr>\n",
       "      <td>2</td>\n",
       "      <td>Roberto Eugenio \"Cherro\" Cerro (Roberto Cherro)</td>\n",
       "      <td>False</td>\n",
       "      <td>1930</td>\n",
       "      <td>Argentina</td>\n",
       "      <td>1930</td>\n",
       "    </tr>\n",
       "    <tr>\n",
       "      <td>3</td>\n",
       "      <td>Alberto Chividini</td>\n",
       "      <td>False</td>\n",
       "      <td>1930</td>\n",
       "      <td>Argentina</td>\n",
       "      <td>1930</td>\n",
       "    </tr>\n",
       "    <tr>\n",
       "      <td>4</td>\n",
       "      <td>Attilio José  Demaria (\"Attilio Demaria\")</td>\n",
       "      <td>False</td>\n",
       "      <td>1930</td>\n",
       "      <td>Argentina</td>\n",
       "      <td>1930</td>\n",
       "    </tr>\n",
       "  </tbody>\n",
       "</table>\n",
       "</div>"
      ],
      "text/plain": [
       "                                  NameFootballPlayer  Foreign-born  \\\n",
       "0  Ángel Fernando Bossio Garcilández (Ángel Bossi...         False   \n",
       "1                                       Juan Botasso         False   \n",
       "2    Roberto Eugenio \"Cherro\" Cerro (Roberto Cherro)         False   \n",
       "3                                  Alberto Chividini         False   \n",
       "4          Attilio José  Demaria (\"Attilio Demaria\")         False   \n",
       "\n",
       "   FIFAWorldCup    country  date  \n",
       "0          1930  Argentina  1930  \n",
       "1          1930  Argentina  1930  \n",
       "2          1930  Argentina  1930  \n",
       "3          1930  Argentina  1930  \n",
       "4          1930  Argentina  1930  "
      ]
     },
     "execution_count": 326,
     "metadata": {},
     "output_type": "execute_result"
    }
   ],
   "source": [
    "#Renaming 'FIFAWorldCup' column to 'date' in preparation for merge\n",
    "df2['date'] = df2['FIFAWorldCup']\n",
    "df2.head()\n"
   ]
  },
  {
   "cell_type": "code",
   "execution_count": 327,
   "metadata": {
    "scrolled": true
   },
   "outputs": [
    {
     "data": {
      "text/html": [
       "<div>\n",
       "<style scoped>\n",
       "    .dataframe tbody tr th:only-of-type {\n",
       "        vertical-align: middle;\n",
       "    }\n",
       "\n",
       "    .dataframe tbody tr th {\n",
       "        vertical-align: top;\n",
       "    }\n",
       "\n",
       "    .dataframe thead th {\n",
       "        text-align: right;\n",
       "    }\n",
       "</style>\n",
       "<table border=\"1\" class=\"dataframe\">\n",
       "  <thead>\n",
       "    <tr style=\"text-align: right;\">\n",
       "      <th></th>\n",
       "      <th>NameFootballPlayer</th>\n",
       "      <th>Foreign-born</th>\n",
       "      <th>country</th>\n",
       "      <th>date</th>\n",
       "    </tr>\n",
       "  </thead>\n",
       "  <tbody>\n",
       "    <tr>\n",
       "      <td>0</td>\n",
       "      <td>Ángel Fernando Bossio Garcilández (Ángel Bossi...</td>\n",
       "      <td>False</td>\n",
       "      <td>Argentina</td>\n",
       "      <td>1930</td>\n",
       "    </tr>\n",
       "    <tr>\n",
       "      <td>1</td>\n",
       "      <td>Juan Botasso</td>\n",
       "      <td>False</td>\n",
       "      <td>Argentina</td>\n",
       "      <td>1930</td>\n",
       "    </tr>\n",
       "    <tr>\n",
       "      <td>2</td>\n",
       "      <td>Roberto Eugenio \"Cherro\" Cerro (Roberto Cherro)</td>\n",
       "      <td>False</td>\n",
       "      <td>Argentina</td>\n",
       "      <td>1930</td>\n",
       "    </tr>\n",
       "    <tr>\n",
       "      <td>3</td>\n",
       "      <td>Alberto Chividini</td>\n",
       "      <td>False</td>\n",
       "      <td>Argentina</td>\n",
       "      <td>1930</td>\n",
       "    </tr>\n",
       "    <tr>\n",
       "      <td>4</td>\n",
       "      <td>Attilio José  Demaria (\"Attilio Demaria\")</td>\n",
       "      <td>False</td>\n",
       "      <td>Argentina</td>\n",
       "      <td>1930</td>\n",
       "    </tr>\n",
       "  </tbody>\n",
       "</table>\n",
       "</div>"
      ],
      "text/plain": [
       "                                  NameFootballPlayer  Foreign-born    country  \\\n",
       "0  Ángel Fernando Bossio Garcilández (Ángel Bossi...         False  Argentina   \n",
       "1                                       Juan Botasso         False  Argentina   \n",
       "2    Roberto Eugenio \"Cherro\" Cerro (Roberto Cherro)         False  Argentina   \n",
       "3                                  Alberto Chividini         False  Argentina   \n",
       "4          Attilio José  Demaria (\"Attilio Demaria\")         False  Argentina   \n",
       "\n",
       "   date  \n",
       "0  1930  \n",
       "1  1930  \n",
       "2  1930  \n",
       "3  1930  \n",
       "4  1930  "
      ]
     },
     "execution_count": 327,
     "metadata": {},
     "output_type": "execute_result"
    }
   ],
   "source": [
    "df2 = df2[['NameFootballPlayer', 'Foreign-born', 'country', 'date']]\n",
    "df2.head()"
   ]
  },
  {
   "cell_type": "code",
   "execution_count": 328,
   "metadata": {
    "scrolled": true
   },
   "outputs": [
    {
     "name": "stdout",
     "output_type": "stream",
     "text": [
      "<class 'pandas.core.frame.DataFrame'>\n",
      "Int64Index: 10129 entries, 0 to 10136\n",
      "Data columns (total 4 columns):\n",
      "NameFootballPlayer    10129 non-null object\n",
      "Foreign-born          10129 non-null bool\n",
      "country               10129 non-null object\n",
      "date                  10129 non-null int64\n",
      "dtypes: bool(1), int64(1), object(2)\n",
      "memory usage: 326.4+ KB\n"
     ]
    }
   ],
   "source": [
    "df2.info()"
   ]
  },
  {
   "cell_type": "code",
   "execution_count": 329,
   "metadata": {},
   "outputs": [
    {
     "data": {
      "text/html": [
       "<div>\n",
       "<style scoped>\n",
       "    .dataframe tbody tr th:only-of-type {\n",
       "        vertical-align: middle;\n",
       "    }\n",
       "\n",
       "    .dataframe tbody tr th {\n",
       "        vertical-align: top;\n",
       "    }\n",
       "\n",
       "    .dataframe thead th {\n",
       "        text-align: right;\n",
       "    }\n",
       "</style>\n",
       "<table border=\"1\" class=\"dataframe\">\n",
       "  <thead>\n",
       "    <tr style=\"text-align: right;\">\n",
       "      <th></th>\n",
       "      <th>rank</th>\n",
       "      <th>country</th>\n",
       "      <th>NameFootballPlayer</th>\n",
       "      <th>Foreign-born</th>\n",
       "      <th>date_y</th>\n",
       "    </tr>\n",
       "  </thead>\n",
       "  <tbody>\n",
       "    <tr>\n",
       "      <td>0</td>\n",
       "      <td>1</td>\n",
       "      <td>Belgium</td>\n",
       "      <td>Ferdinand Eloy Adams</td>\n",
       "      <td>False</td>\n",
       "      <td>1930</td>\n",
       "    </tr>\n",
       "    <tr>\n",
       "      <td>1</td>\n",
       "      <td>1</td>\n",
       "      <td>Belgium</td>\n",
       "      <td>Arnold \"Nolle\" Badjou</td>\n",
       "      <td>False</td>\n",
       "      <td>1930</td>\n",
       "    </tr>\n",
       "    <tr>\n",
       "      <td>2</td>\n",
       "      <td>1</td>\n",
       "      <td>Belgium</td>\n",
       "      <td>Pierre E. E. Braine (Captain)</td>\n",
       "      <td>False</td>\n",
       "      <td>1930</td>\n",
       "    </tr>\n",
       "    <tr>\n",
       "      <td>3</td>\n",
       "      <td>1</td>\n",
       "      <td>Belgium</td>\n",
       "      <td>Joseph Dieudonné Alexis Chantraine (Alexis Cha...</td>\n",
       "      <td>False</td>\n",
       "      <td>1930</td>\n",
       "    </tr>\n",
       "    <tr>\n",
       "      <td>4</td>\n",
       "      <td>1</td>\n",
       "      <td>Belgium</td>\n",
       "      <td>Jean Baptiste De Bie</td>\n",
       "      <td>False</td>\n",
       "      <td>1930</td>\n",
       "    </tr>\n",
       "  </tbody>\n",
       "</table>\n",
       "</div>"
      ],
      "text/plain": [
       "   rank  country                                 NameFootballPlayer  \\\n",
       "0     1  Belgium                               Ferdinand Eloy Adams   \n",
       "1     1  Belgium                              Arnold \"Nolle\" Badjou   \n",
       "2     1  Belgium                      Pierre E. E. Braine (Captain)   \n",
       "3     1  Belgium  Joseph Dieudonné Alexis Chantraine (Alexis Cha...   \n",
       "4     1  Belgium                               Jean Baptiste De Bie   \n",
       "\n",
       "   Foreign-born  date_y  \n",
       "0         False    1930  \n",
       "1         False    1930  \n",
       "2         False    1930  \n",
       "3         False    1930  \n",
       "4         False    1930  "
      ]
     },
     "execution_count": 329,
     "metadata": {},
     "output_type": "execute_result"
    }
   ],
   "source": [
    "#inner join df1 and df2\n",
    "data_merged = pd.merge(df1, df2, how = 'inner', on ='country')\n",
    "data_merged = data_merged.drop('date_x', axis = 1)\n",
    "data_merged.head()"
   ]
  },
  {
   "cell_type": "code",
   "execution_count": 330,
   "metadata": {
    "scrolled": false
   },
   "outputs": [
    {
     "name": "stdout",
     "output_type": "stream",
     "text": [
      "<class 'pandas.core.frame.DataFrame'>\n",
      "Int64Index: 2593005 entries, 0 to 2593004\n",
      "Data columns (total 5 columns):\n",
      "rank                  int64\n",
      "country               object\n",
      "NameFootballPlayer    object\n",
      "Foreign-born          bool\n",
      "date_y                int64\n",
      "dtypes: bool(1), int64(2), object(2)\n",
      "memory usage: 101.4+ MB\n"
     ]
    }
   ],
   "source": [
    "data_merged.info()"
   ]
  },
  {
   "cell_type": "code",
   "execution_count": 331,
   "metadata": {},
   "outputs": [],
   "source": [
    "#Changing 'rank' column to category in order to prepare for chi-squared test\n",
    "data_merged['rank'] = data_merged['rank'].astype('category')"
   ]
  },
  {
   "cell_type": "code",
   "execution_count": 332,
   "metadata": {
    "scrolled": true
   },
   "outputs": [
    {
     "name": "stdout",
     "output_type": "stream",
     "text": [
      "<class 'pandas.core.frame.DataFrame'>\n",
      "Int64Index: 2593005 entries, 0 to 2593004\n",
      "Data columns (total 5 columns):\n",
      "rank                  category\n",
      "country               object\n",
      "NameFootballPlayer    object\n",
      "Foreign-born          bool\n",
      "date_y                int64\n",
      "dtypes: bool(1), category(1), int64(1), object(2)\n",
      "memory usage: 86.6+ MB\n"
     ]
    }
   ],
   "source": [
    "data_merged.info()"
   ]
  },
  {
   "cell_type": "markdown",
   "metadata": {},
   "source": [
    "The ranking system currently being deployed by FIFA wasn't instituted until December 1992. Since our DataFrame is unwieldy, we will focus on rankings from 1993 onwards."
   ]
  },
  {
   "cell_type": "code",
   "execution_count": 333,
   "metadata": {},
   "outputs": [
    {
     "data": {
      "text/html": [
       "<div>\n",
       "<style scoped>\n",
       "    .dataframe tbody tr th:only-of-type {\n",
       "        vertical-align: middle;\n",
       "    }\n",
       "\n",
       "    .dataframe tbody tr th {\n",
       "        vertical-align: top;\n",
       "    }\n",
       "\n",
       "    .dataframe thead th {\n",
       "        text-align: right;\n",
       "    }\n",
       "</style>\n",
       "<table border=\"1\" class=\"dataframe\">\n",
       "  <thead>\n",
       "    <tr style=\"text-align: right;\">\n",
       "      <th></th>\n",
       "      <th>rank</th>\n",
       "      <th>country</th>\n",
       "      <th>NameFootballPlayer</th>\n",
       "      <th>Foreign-born</th>\n",
       "      <th>date_y</th>\n",
       "    </tr>\n",
       "  </thead>\n",
       "  <tbody>\n",
       "    <tr>\n",
       "      <td>170</td>\n",
       "      <td>1</td>\n",
       "      <td>Belgium</td>\n",
       "      <td>Michel Preud'homme</td>\n",
       "      <td>False</td>\n",
       "      <td>1994</td>\n",
       "    </tr>\n",
       "    <tr>\n",
       "      <td>171</td>\n",
       "      <td>1</td>\n",
       "      <td>Belgium</td>\n",
       "      <td>Dirk Medved</td>\n",
       "      <td>False</td>\n",
       "      <td>1994</td>\n",
       "    </tr>\n",
       "    <tr>\n",
       "      <td>172</td>\n",
       "      <td>1</td>\n",
       "      <td>Belgium</td>\n",
       "      <td>Vital Borkelmans</td>\n",
       "      <td>False</td>\n",
       "      <td>1994</td>\n",
       "    </tr>\n",
       "    <tr>\n",
       "      <td>173</td>\n",
       "      <td>1</td>\n",
       "      <td>Belgium</td>\n",
       "      <td>Philippe Albert</td>\n",
       "      <td>False</td>\n",
       "      <td>1994</td>\n",
       "    </tr>\n",
       "    <tr>\n",
       "      <td>174</td>\n",
       "      <td>1</td>\n",
       "      <td>Belgium</td>\n",
       "      <td>Rudi Smidts</td>\n",
       "      <td>False</td>\n",
       "      <td>1994</td>\n",
       "    </tr>\n",
       "  </tbody>\n",
       "</table>\n",
       "</div>"
      ],
      "text/plain": [
       "    rank  country  NameFootballPlayer  Foreign-born  date_y\n",
       "170    1  Belgium  Michel Preud'homme         False    1994\n",
       "171    1  Belgium         Dirk Medved         False    1994\n",
       "172    1  Belgium    Vital Borkelmans         False    1994\n",
       "173    1  Belgium     Philippe Albert         False    1994\n",
       "174    1  Belgium         Rudi Smidts         False    1994"
      ]
     },
     "execution_count": 333,
     "metadata": {},
     "output_type": "execute_result"
    }
   ],
   "source": [
    "new_df = data_merged.loc[data_merged['date_y'] >= 1993]\n",
    "new_df.head()\n"
   ]
  },
  {
   "cell_type": "code",
   "execution_count": 334,
   "metadata": {
    "scrolled": true
   },
   "outputs": [
    {
     "name": "stderr",
     "output_type": "stream",
     "text": [
      "/opt/anaconda3/lib/python3.7/site-packages/ipykernel_launcher.py:1: SettingWithCopyWarning: \n",
      "A value is trying to be set on a copy of a slice from a DataFrame.\n",
      "Try using .loc[row_indexer,col_indexer] = value instead\n",
      "\n",
      "See the caveats in the documentation: http://pandas.pydata.org/pandas-docs/stable/user_guide/indexing.html#returning-a-view-versus-a-copy\n",
      "  \"\"\"Entry point for launching an IPython kernel.\n"
     ]
    }
   ],
   "source": [
    "new_df['rank'] = new_df['rank'].astype('int')"
   ]
  },
  {
   "cell_type": "code",
   "execution_count": 335,
   "metadata": {},
   "outputs": [
    {
     "name": "stderr",
     "output_type": "stream",
     "text": [
      "/opt/anaconda3/lib/python3.7/site-packages/ipykernel_launcher.py:1: SettingWithCopyWarning: \n",
      "A value is trying to be set on a copy of a slice from a DataFrame.\n",
      "Try using .loc[row_indexer,col_indexer] = value instead\n",
      "\n",
      "See the caveats in the documentation: http://pandas.pydata.org/pandas-docs/stable/user_guide/indexing.html#returning-a-view-versus-a-copy\n",
      "  \"\"\"Entry point for launching an IPython kernel.\n"
     ]
    }
   ],
   "source": [
    "new_df['Foreign-born'] = new_df['Foreign-born'].astype(int)"
   ]
  },
  {
   "cell_type": "code",
   "execution_count": 336,
   "metadata": {
    "scrolled": true
   },
   "outputs": [
    {
     "name": "stdout",
     "output_type": "stream",
     "text": [
      "<class 'pandas.core.frame.DataFrame'>\n",
      "Int64Index: 1302239 entries, 170 to 2575408\n",
      "Data columns (total 5 columns):\n",
      "rank                  1302239 non-null int64\n",
      "country               1302239 non-null object\n",
      "NameFootballPlayer    1302239 non-null object\n",
      "Foreign-born          1302239 non-null int64\n",
      "date_y                1302239 non-null int64\n",
      "dtypes: int64(3), object(2)\n",
      "memory usage: 59.6+ MB\n"
     ]
    }
   ],
   "source": [
    "new_df.info()"
   ]
  },
  {
   "cell_type": "markdown",
   "metadata": {},
   "source": [
    "# Visualization"
   ]
  },
  {
   "cell_type": "code",
   "execution_count": 337,
   "metadata": {},
   "outputs": [
    {
     "data": {
      "text/plain": [
       "array([[<matplotlib.axes._subplots.AxesSubplot object at 0x1a247c2fd0>,\n",
       "        <matplotlib.axes._subplots.AxesSubplot object at 0x1a3e1de150>],\n",
       "       [<matplotlib.axes._subplots.AxesSubplot object at 0x1a3e1f8190>,\n",
       "        <matplotlib.axes._subplots.AxesSubplot object at 0x1a3e1e39d0>]],\n",
       "      dtype=object)"
      ]
     },
     "execution_count": 337,
     "metadata": {},
     "output_type": "execute_result"
    },
    {
     "data": {
      "image/png": "[encoded data removed]",
      "text/plain": [
       "<Figure size 1440x1440 with 4 Axes>"
      ]
     },
     "metadata": {},
     "output_type": "display_data"
    }
   ],
   "source": [
    "new_df.hist(edgecolor='black', linewidth=1.2, figsize=(20, 20))"
   ]
  },
  {
   "cell_type": "code",
   "execution_count": 338,
   "metadata": {},
   "outputs": [
    {
     "data": {
      "text/html": [
       "<div>\n",
       "<style scoped>\n",
       "    .dataframe tbody tr th:only-of-type {\n",
       "        vertical-align: middle;\n",
       "    }\n",
       "\n",
       "    .dataframe tbody tr th {\n",
       "        vertical-align: top;\n",
       "    }\n",
       "\n",
       "    .dataframe thead th {\n",
       "        text-align: right;\n",
       "    }\n",
       "</style>\n",
       "<table border=\"1\" class=\"dataframe\">\n",
       "  <thead>\n",
       "    <tr style=\"text-align: right;\">\n",
       "      <th></th>\n",
       "      <th>rank</th>\n",
       "      <th>Foreign-born</th>\n",
       "    </tr>\n",
       "    <tr>\n",
       "      <th>country</th>\n",
       "      <th></th>\n",
       "      <th></th>\n",
       "    </tr>\n",
       "  </thead>\n",
       "  <tbody>\n",
       "    <tr>\n",
       "      <td>Brazil</td>\n",
       "      <td>3.166113</td>\n",
       "      <td>0</td>\n",
       "    </tr>\n",
       "    <tr>\n",
       "      <td>Germany</td>\n",
       "      <td>5.488372</td>\n",
       "      <td>10234</td>\n",
       "    </tr>\n",
       "    <tr>\n",
       "      <td>Spain</td>\n",
       "      <td>5.491694</td>\n",
       "      <td>2408</td>\n",
       "    </tr>\n",
       "    <tr>\n",
       "      <td>Argentina</td>\n",
       "      <td>5.697674</td>\n",
       "      <td>903</td>\n",
       "    </tr>\n",
       "    <tr>\n",
       "      <td>France</td>\n",
       "      <td>8.664452</td>\n",
       "      <td>6622</td>\n",
       "    </tr>\n",
       "    <tr>\n",
       "      <td>Italy</td>\n",
       "      <td>8.717608</td>\n",
       "      <td>1806</td>\n",
       "    </tr>\n",
       "    <tr>\n",
       "      <td>Netherlands</td>\n",
       "      <td>9.166113</td>\n",
       "      <td>3010</td>\n",
       "    </tr>\n",
       "    <tr>\n",
       "      <td>England</td>\n",
       "      <td>10.362126</td>\n",
       "      <td>1505</td>\n",
       "    </tr>\n",
       "    <tr>\n",
       "      <td>Portugal</td>\n",
       "      <td>11.172757</td>\n",
       "      <td>6321</td>\n",
       "    </tr>\n",
       "    <tr>\n",
       "      <td>Mexico</td>\n",
       "      <td>14.767442</td>\n",
       "      <td>1505</td>\n",
       "    </tr>\n",
       "  </tbody>\n",
       "</table>\n",
       "</div>"
      ],
      "text/plain": [
       "                  rank  Foreign-born\n",
       "country                             \n",
       "Brazil        3.166113             0\n",
       "Germany       5.488372         10234\n",
       "Spain         5.491694          2408\n",
       "Argentina     5.697674           903\n",
       "France        8.664452          6622\n",
       "Italy         8.717608          1806\n",
       "Netherlands   9.166113          3010\n",
       "England      10.362126          1505\n",
       "Portugal     11.172757          6321\n",
       "Mexico       14.767442          1505"
      ]
     },
     "execution_count": 338,
     "metadata": {},
     "output_type": "execute_result"
    }
   ],
   "source": [
    "sort_df = new_df.groupby('country')[['rank', 'Foreign-born']].agg({'rank': 'mean', 'Foreign-born': 'sum'}).sort_values(by = 'rank')\n",
    "sort_df.head(10)"
   ]
  },
  {
   "cell_type": "code",
   "execution_count": 339,
   "metadata": {
    "scrolled": false
   },
   "outputs": [
    {
     "data": {
      "text/html": [
       "<div>\n",
       "<style scoped>\n",
       "    .dataframe tbody tr th:only-of-type {\n",
       "        vertical-align: middle;\n",
       "    }\n",
       "\n",
       "    .dataframe tbody tr th {\n",
       "        vertical-align: top;\n",
       "    }\n",
       "\n",
       "    .dataframe thead th {\n",
       "        text-align: right;\n",
       "    }\n",
       "</style>\n",
       "<table border=\"1\" class=\"dataframe\">\n",
       "  <thead>\n",
       "    <tr style=\"text-align: right;\">\n",
       "      <th></th>\n",
       "      <th>rank</th>\n",
       "      <th>Foreign-born</th>\n",
       "    </tr>\n",
       "    <tr>\n",
       "      <th>country</th>\n",
       "      <th></th>\n",
       "      <th></th>\n",
       "    </tr>\n",
       "  </thead>\n",
       "  <tbody>\n",
       "    <tr>\n",
       "      <td>Slovenia</td>\n",
       "      <td>55.598007</td>\n",
       "      <td>903</td>\n",
       "    </tr>\n",
       "    <tr>\n",
       "      <td>Bosnia and Herzegovina</td>\n",
       "      <td>57.830882</td>\n",
       "      <td>1632</td>\n",
       "    </tr>\n",
       "    <tr>\n",
       "      <td>Jamaica</td>\n",
       "      <td>60.119601</td>\n",
       "      <td>2408</td>\n",
       "    </tr>\n",
       "    <tr>\n",
       "      <td>Iceland</td>\n",
       "      <td>64.514950</td>\n",
       "      <td>602</td>\n",
       "    </tr>\n",
       "    <tr>\n",
       "      <td>Trinidad and Tobago</td>\n",
       "      <td>67.202658</td>\n",
       "      <td>903</td>\n",
       "    </tr>\n",
       "    <tr>\n",
       "      <td>Bolivia</td>\n",
       "      <td>72.059801</td>\n",
       "      <td>1204</td>\n",
       "    </tr>\n",
       "    <tr>\n",
       "      <td>Angola</td>\n",
       "      <td>84.129568</td>\n",
       "      <td>0</td>\n",
       "    </tr>\n",
       "    <tr>\n",
       "      <td>Togo</td>\n",
       "      <td>87.073090</td>\n",
       "      <td>1806</td>\n",
       "    </tr>\n",
       "    <tr>\n",
       "      <td>Panama</td>\n",
       "      <td>88.568106</td>\n",
       "      <td>0</td>\n",
       "    </tr>\n",
       "    <tr>\n",
       "      <td>New Zealand</td>\n",
       "      <td>101.621262</td>\n",
       "      <td>1204</td>\n",
       "    </tr>\n",
       "  </tbody>\n",
       "</table>\n",
       "</div>"
      ],
      "text/plain": [
       "                              rank  Foreign-born\n",
       "country                                         \n",
       "Slovenia                 55.598007           903\n",
       "Bosnia and Herzegovina   57.830882          1632\n",
       "Jamaica                  60.119601          2408\n",
       "Iceland                  64.514950           602\n",
       "Trinidad and Tobago      67.202658           903\n",
       "Bolivia                  72.059801          1204\n",
       "Angola                   84.129568             0\n",
       "Togo                     87.073090          1806\n",
       "Panama                   88.568106             0\n",
       "New Zealand             101.621262          1204"
      ]
     },
     "execution_count": 339,
     "metadata": {},
     "output_type": "execute_result"
    }
   ],
   "source": [
    "sort_df.tail(10)"
   ]
  },
  {
   "cell_type": "code",
   "execution_count": 340,
   "metadata": {
    "scrolled": true
   },
   "outputs": [
    {
     "data": {
      "image/png": "[encoded data removed]",
      "text/plain": [
       "<Figure size 936x936 with 1 Axes>"
      ]
     },
     "metadata": {},
     "output_type": "display_data"
    }
   ],
   "source": [
    "_ = sort_df.plot.barh(figsize = (13, 13), stacked = True)\n",
    "_ = plt.xlabel('Number of foreign-born players')\n",
    "_ = plt.ylabel('Countries by rank')\n",
    "_ = plt.title('Average rank since 1993 by country and number of foreign-born players')"
   ]
  },
  {
   "cell_type": "markdown",
   "metadata": {},
   "source": [
    "The bar graph above shows no clear correlation between a country's rank and it's proportion of foreign-born players. For example, Brazil which has the highest average rank since 1993 has had no foreign-born players while Panama which also has had no foreign-born players has one of the lowest rankings. Germany, which has the second highest average rank has had foreign-born players while Algeria, which has one of the highest proportions of foreign-born players is ranked in the bottom half."
   ]
  },
  {
   "cell_type": "code",
   "execution_count": 341,
   "metadata": {
    "scrolled": true
   },
   "outputs": [
    {
     "data": {
      "image/png": "[encoded data removed]",
      "text/plain": [
       "<Figure size 1296x432 with 1 Axes>"
      ]
     },
     "metadata": {},
     "output_type": "display_data"
    }
   ],
   "source": [
    "sns.set(style = 'whitegrid')\n",
    "_= sns.catplot(data = sort_df.reset_index(), x = 'country', y = 'Foreign-born', palette = 'dark', \n",
    "               height = 6, aspect = 3)\n",
    "_.set_xticklabels(rotation=70)\n",
    "_ = plt.title(\"Total foreign born players compared to ranked countries\")"
   ]
  },
  {
   "cell_type": "markdown",
   "metadata": {},
   "source": [
    "\n",
    "Aggregating the 'Foreign-born' column above produces some atypical values for the sum of foreign born players. It indicates that Germany and Croatia for example have each had a total of over 10,000 players foreign-born players between 1993 and 2018. Merging on the original dataframes which had duplicate rows resulted in a dataframe that had an inflated number of rows. Dropping duplicates from the original dataframes only resulted in a modest decrease in the final dataframe's number of rows. I decided to aggregate the 'Foreign-born' column with the mean function instead of the sum function. \n"
   ]
  },
  {
   "cell_type": "code",
   "execution_count": 342,
   "metadata": {},
   "outputs": [],
   "source": [
    "sort_df1 = new_df.groupby('country')[['rank', 'Foreign-born']].agg({'rank': 'mean', 'Foreign-born': 'mean'}).sort_values(by = 'rank')"
   ]
  },
  {
   "cell_type": "code",
   "execution_count": 343,
   "metadata": {},
   "outputs": [
    {
     "data": {
      "text/plain": [
       "0.000000    12\n",
       "0.260870     3\n",
       "0.173913     2\n",
       "0.130435     2\n",
       "0.028986     2\n",
       "0.045455     2\n",
       "0.032609     2\n",
       "0.036496     1\n",
       "0.088496     1\n",
       "0.043478     1\n",
       "0.217391     1\n",
       "0.153846     1\n",
       "0.086957     1\n",
       "0.031447     1\n",
       "0.125000     1\n",
       "0.717391     1\n",
       "0.283582     1\n",
       "0.239130     1\n",
       "0.018868     1\n",
       "0.065217     1\n",
       "0.117647     1\n",
       "0.061947     1\n",
       "0.114583     1\n",
       "0.160584     1\n",
       "0.363636     1\n",
       "0.054945     1\n",
       "0.058824     1\n",
       "0.076923     1\n",
       "0.073529     1\n",
       "0.181818     1\n",
       "0.307018     1\n",
       "0.219780     1\n",
       "0.213836     1\n",
       "0.043796     1\n",
       "0.210526     1\n",
       "0.050314     1\n",
       "0.021978     1\n",
       "0.577778     1\n",
       "0.044118     1\n",
       "0.136364     1\n",
       "0.184211     1\n",
       "0.065934     1\n",
       "Name: Foreign-born, dtype: int64"
      ]
     },
     "execution_count": 343,
     "metadata": {},
     "output_type": "execute_result"
    }
   ],
   "source": [
    "counts1 = sort_df1['Foreign-born'].value_counts()\n",
    "counts1"
   ]
  },
  {
   "cell_type": "code",
   "execution_count": 344,
   "metadata": {},
   "outputs": [
    {
     "data": {
      "image/png": "[encoded data removed]",
      "text/plain": [
       "<Figure size 1296x432 with 1 Axes>"
      ]
     },
     "metadata": {},
     "output_type": "display_data"
    }
   ],
   "source": [
    "sns.set(style = 'whitegrid')\n",
    "_= sns.catplot(data = sort_df1.reset_index(), x = 'country', y = 'Foreign-born', palette = 'dark', \n",
    "               height = 6, aspect = 3)\n",
    "_.set_xticklabels(rotation=70)\n",
    "_ = plt.title(\"Average no. Foreign born players compared to ranked countries\")"
   ]
  },
  {
   "cell_type": "markdown",
   "metadata": {},
   "source": [
    "The majority of countries have had at least 1 foreign-born player on their team. Even after aggregating the 'Foreign-born' column with the mean function, there is still no clear distinction between the rank of countries that have no foreign-born players and countries that have at least one foreign-born player. "
   ]
  },
  {
   "cell_type": "markdown",
   "metadata": {},
   "source": [
    "# Hypothesis:\n",
    "1. Null hypothesis: there is no difference in ranking between countries that have more foreign-born players vs countries that have fewer foreign-born players\n",
    "2. Alternate hypothesis: countries which have more foreign-born players have better FIFA rankings"
   ]
  },
  {
   "cell_type": "markdown",
   "metadata": {},
   "source": [
    "# Exploring Relationships in the Data: \n",
    "1. Chi-Squared Test useful to determine which categorical inputs affect our output variable.\n",
    "2. Assumptions: variables are categorical (ordinal/ nominal) and variables are independent assuming the Null\n",
    "\n",
    "\n",
    "The test compares observed frequencies to expected frequencies and from there determines whether an input is independent of the output variable or not. This is determined by comparing the chi-square values (small chi-square values indicate relatively small dependence, large chi-square values indicate a gulf between observed and expected frequencies and therefore we can be sure that values are dependent). From there, any independent inputs can be discarded from our analysis."
   ]
  },
  {
   "cell_type": "code",
   "execution_count": 345,
   "metadata": {},
   "outputs": [
    {
     "name": "stdout",
     "output_type": "stream",
     "text": [
      "The chi-squared value between ranking and number of foreign born players is:  2632748.777515983\n",
      "The p value is:  0.0\n"
     ]
    }
   ],
   "source": [
    "# chi squared test exploring the relationship between 'rank' and 'foreign_born' columns\n",
    "from scipy.stats import chi2_contingency\n",
    "from scipy.stats import chi2\n",
    "\n",
    "chi2, p, dof, expected = chi2_contingency(new_df[['rank', 'Foreign-born']])\n",
    "print(\"The chi-squared value between ranking and number of foreign born players is: \", chi2)\n",
    "print(\"The p value is: \", p)"
   ]
  },
  {
   "cell_type": "markdown",
   "metadata": {},
   "source": [
    "-> The chi-squared value is very high: 2,632,748 (the observed frequency is very high as opposed to the expected frequency under the null hypothesis) and the p-value is 0. This result can be interpreted thus:\n",
    "\n",
    "The large chi-squared value is unusual but the data set is also very large with about 1,300,000 rows. \n",
    "\n",
    "If there was no difference in rankings between countries that had more foreign born players and countries that had fewer foreign born players, this very large difference between the expected frequencies and the observed frequencies can only be observed 0% of the time.\n",
    "\n",
    "We can then reject the null hypothesis that there is no difference in ranking for countries that have more foreign-born players vs countries that don't."
   ]
  },
  {
   "cell_type": "markdown",
   "metadata": {},
   "source": [
    "# Modeling: Decision Tree"
   ]
  },
  {
   "cell_type": "code",
   "execution_count": 346,
   "metadata": {},
   "outputs": [
    {
     "name": "stdout",
     "output_type": "stream",
     "text": [
      "<class 'pandas.core.frame.DataFrame'>\n",
      "Int64Index: 1302239 entries, 170 to 2575408\n",
      "Data columns (total 5 columns):\n",
      "rank                  1302239 non-null int64\n",
      "country               1302239 non-null object\n",
      "NameFootballPlayer    1302239 non-null object\n",
      "Foreign-born          1302239 non-null int64\n",
      "date_y                1302239 non-null int64\n",
      "dtypes: int64(3), object(2)\n",
      "memory usage: 59.6+ MB\n"
     ]
    }
   ],
   "source": [
    "new_df.info()"
   ]
  },
  {
   "cell_type": "code",
   "execution_count": 347,
   "metadata": {},
   "outputs": [],
   "source": [
    "from sklearn.tree import DecisionTreeClassifier\n",
    "from sklearn.model_selection import train_test_split\n",
    "from sklearn.preprocessing import LabelEncoder\n",
    "from sklearn import metrics\n",
    "from sklearn.model_selection import RandomizedSearchCV\n",
    "from sklearn.ensemble import RandomForestClassifier\n",
    "\n",
    "    "
   ]
  },
  {
   "cell_type": "code",
   "execution_count": 348,
   "metadata": {
    "scrolled": true
   },
   "outputs": [
    {
     "name": "stderr",
     "output_type": "stream",
     "text": [
      "/opt/anaconda3/lib/python3.7/site-packages/ipykernel_launcher.py:1: SettingWithCopyWarning: \n",
      "A value is trying to be set on a copy of a slice from a DataFrame.\n",
      "Try using .loc[row_indexer,col_indexer] = value instead\n",
      "\n",
      "See the caveats in the documentation: http://pandas.pydata.org/pandas-docs/stable/user_guide/indexing.html#returning-a-view-versus-a-copy\n",
      "  \"\"\"Entry point for launching an IPython kernel.\n",
      "/opt/anaconda3/lib/python3.7/site-packages/ipykernel_launcher.py:2: SettingWithCopyWarning: \n",
      "A value is trying to be set on a copy of a slice from a DataFrame.\n",
      "Try using .loc[row_indexer,col_indexer] = value instead\n",
      "\n",
      "See the caveats in the documentation: http://pandas.pydata.org/pandas-docs/stable/user_guide/indexing.html#returning-a-view-versus-a-copy\n",
      "  \n",
      "/opt/anaconda3/lib/python3.7/site-packages/ipykernel_launcher.py:3: SettingWithCopyWarning: \n",
      "A value is trying to be set on a copy of a slice from a DataFrame.\n",
      "Try using .loc[row_indexer,col_indexer] = value instead\n",
      "\n",
      "See the caveats in the documentation: http://pandas.pydata.org/pandas-docs/stable/user_guide/indexing.html#returning-a-view-versus-a-copy\n",
      "  This is separate from the ipykernel package so we can avoid doing imports until\n"
     ]
    }
   ],
   "source": [
    "new_df['Foreign-born'] = new_df['Foreign-born'].astype(\"category\")\n",
    "new_df['country'] = new_df['country'].astype(\"category\")\n",
    "new_df['NameFootballPlayer'] = new_df['NameFootballPlayer'].astype('object')\n"
   ]
  },
  {
   "cell_type": "code",
   "execution_count": 349,
   "metadata": {},
   "outputs": [
    {
     "name": "stdout",
     "output_type": "stream",
     "text": [
      "<class 'pandas.core.frame.DataFrame'>\n",
      "Int64Index: 1302239 entries, 170 to 2575408\n",
      "Data columns (total 5 columns):\n",
      "rank                  1302239 non-null int64\n",
      "country               1302239 non-null category\n",
      "NameFootballPlayer    1302239 non-null object\n",
      "Foreign-born          1302239 non-null category\n",
      "date_y                1302239 non-null int64\n",
      "dtypes: category(2), int64(2), object(1)\n",
      "memory usage: 42.2+ MB\n"
     ]
    }
   ],
   "source": [
    "new_df.info()"
   ]
  },
  {
   "cell_type": "code",
   "execution_count": 350,
   "metadata": {},
   "outputs": [],
   "source": [
    "#Creating list of categorical columns for later encoding\n",
    "categorical_col = []\n",
    "for column in new_df.columns:\n",
    "    if new_df[column].dtype != 'int64':\n",
    "        categorical_col.append(column)"
   ]
  },
  {
   "cell_type": "code",
   "execution_count": 351,
   "metadata": {},
   "outputs": [
    {
     "data": {
      "text/plain": [
       "['country', 'NameFootballPlayer', 'Foreign-born']"
      ]
     },
     "execution_count": 351,
     "metadata": {},
     "output_type": "execute_result"
    }
   ],
   "source": [
    "categorical_col"
   ]
  },
  {
   "cell_type": "code",
   "execution_count": 352,
   "metadata": {},
   "outputs": [
    {
     "name": "stderr",
     "output_type": "stream",
     "text": [
      "/opt/anaconda3/lib/python3.7/site-packages/ipykernel_launcher.py:4: SettingWithCopyWarning: \n",
      "A value is trying to be set on a copy of a slice from a DataFrame.\n",
      "Try using .loc[row_indexer,col_indexer] = value instead\n",
      "\n",
      "See the caveats in the documentation: http://pandas.pydata.org/pandas-docs/stable/user_guide/indexing.html#returning-a-view-versus-a-copy\n",
      "  after removing the cwd from sys.path.\n"
     ]
    }
   ],
   "source": [
    "# Creating dummy variables for categorical data\n",
    "label = LabelEncoder()\n",
    "for column in categorical_col:\n",
    "    new_df[column] = label.fit_transform(new_df[column])"
   ]
  },
  {
   "cell_type": "code",
   "execution_count": 353,
   "metadata": {},
   "outputs": [],
   "source": [
    "#Creating features and target\n",
    "X = new_df.drop('rank', axis=1)\n",
    "y = new_df['rank']\n"
   ]
  },
  {
   "cell_type": "code",
   "execution_count": 354,
   "metadata": {},
   "outputs": [
    {
     "data": {
      "text/plain": [
       "(1302239, 4)"
      ]
     },
     "execution_count": 354,
     "metadata": {},
     "output_type": "execute_result"
    }
   ],
   "source": [
    "X.shape"
   ]
  },
  {
   "cell_type": "code",
   "execution_count": 355,
   "metadata": {},
   "outputs": [
    {
     "data": {
      "text/plain": [
       "(1302239,)"
      ]
     },
     "execution_count": 355,
     "metadata": {},
     "output_type": "execute_result"
    }
   ],
   "source": [
    "y.shape"
   ]
  },
  {
   "cell_type": "code",
   "execution_count": 407,
   "metadata": {},
   "outputs": [
    {
     "data": {
      "text/plain": [
       "(911567, 4)"
      ]
     },
     "execution_count": 407,
     "metadata": {},
     "output_type": "execute_result"
    }
   ],
   "source": [
    "X_train, X_test, y_train, y_test = train_test_split(X, y, test_size = 0.3, random_state = 42)\n",
    "X_train.shape"
   ]
  },
  {
   "cell_type": "code",
   "execution_count": 387,
   "metadata": {},
   "outputs": [
    {
     "data": {
      "text/plain": [
       "(651120, 4)"
      ]
     },
     "execution_count": 387,
     "metadata": {},
     "output_type": "execute_result"
    }
   ],
   "source": [
    "X_test.shape"
   ]
  },
  {
   "cell_type": "code",
   "execution_count": 388,
   "metadata": {},
   "outputs": [
    {
     "data": {
      "text/plain": [
       "(651119,)"
      ]
     },
     "execution_count": 388,
     "metadata": {},
     "output_type": "execute_result"
    }
   ],
   "source": [
    "y_train.shape"
   ]
  },
  {
   "cell_type": "code",
   "execution_count": 389,
   "metadata": {},
   "outputs": [
    {
     "data": {
      "text/plain": [
       "(651120,)"
      ]
     },
     "execution_count": 389,
     "metadata": {},
     "output_type": "execute_result"
    }
   ],
   "source": [
    "y_test.shape"
   ]
  },
  {
   "cell_type": "code",
   "execution_count": 390,
   "metadata": {},
   "outputs": [
    {
     "name": "stdout",
     "output_type": "stream",
     "text": [
      "Accuracy: 0.08162550681901953\n"
     ]
    }
   ],
   "source": [
    "#Untuned tree\n",
    "tree = DecisionTreeClassifier(random_state = 42)\n",
    "\n",
    "tree.fit(X_train, y_train)\n",
    "y_pred = tree.predict(X_test)\n",
    "\n",
    "print(\"Accuracy:\",metrics.accuracy_score(y_test, y_pred))"
   ]
  },
  {
   "cell_type": "code",
   "execution_count": 391,
   "metadata": {},
   "outputs": [
    {
     "name": "stdout",
     "output_type": "stream",
     "text": [
      "Fitting 5 folds for each of 10 candidates, totalling 50 fits\n"
     ]
    },
    {
     "name": "stderr",
     "output_type": "stream",
     "text": [
      "[Parallel(n_jobs=1)]: Using backend SequentialBackend with 1 concurrent workers.\n",
      "[Parallel(n_jobs=1)]: Done  50 out of  50 | elapsed:   45.5s finished\n"
     ]
    },
    {
     "data": {
      "text/plain": [
       "RandomizedSearchCV(cv=5, error_score='raise-deprecating',\n",
       "                   estimator=DecisionTreeClassifier(class_weight=None,\n",
       "                                                    criterion='gini',\n",
       "                                                    max_depth=None,\n",
       "                                                    max_features=None,\n",
       "                                                    max_leaf_nodes=None,\n",
       "                                                    min_impurity_decrease=0.0,\n",
       "                                                    min_impurity_split=None,\n",
       "                                                    min_samples_leaf=1,\n",
       "                                                    min_samples_split=2,\n",
       "                                                    min_weight_fraction_leaf=0.0,\n",
       "                                                    presort=False,\n",
       "                                                    random_state=42,\n",
       "                                                    splitter='best'),\n",
       "                   iid='warn', n_iter=10, n_jobs=None,\n",
       "                   param_distributions={'criterion': ('gini', 'entropy'),\n",
       "                                        'max_depth': (10, 30, 50, 70, 90, 100),\n",
       "                                        'max_features': ('auto', 'sqrt',\n",
       "                                                         'log2'),\n",
       "                                        'min_samples_split': (2, 4, 6)},\n",
       "                   pre_dispatch='2*n_jobs', random_state=None, refit=True,\n",
       "                   return_train_score=False, scoring=None, verbose=True)"
      ]
     },
     "execution_count": 391,
     "metadata": {},
     "output_type": "execute_result"
    }
   ],
   "source": [
    "#Tuning tree\n",
    "parameters = {'max_depth' : (10,30,50,70,90,100)\n",
    "              , 'criterion' : ('gini', 'entropy')\n",
    "              , 'max_features' : ('auto', 'sqrt', 'log2')\n",
    "              , 'min_samples_split' : (2,4,6)\n",
    "             }\n",
    "\n",
    "DT_grid  = RandomizedSearchCV(DecisionTreeClassifier(random_state = 42), param_distributions = parameters, cv = 5, verbose = True)\n",
    "DT_grid.fit(X_train, y_train)"
   ]
  },
  {
   "cell_type": "code",
   "execution_count": 392,
   "metadata": {
    "scrolled": true
   },
   "outputs": [
    {
     "data": {
      "text/plain": [
       "DecisionTreeClassifier(class_weight=None, criterion='entropy', max_depth=10,\n",
       "                       max_features='log2', max_leaf_nodes=None,\n",
       "                       min_impurity_decrease=0.0, min_impurity_split=None,\n",
       "                       min_samples_leaf=1, min_samples_split=4,\n",
       "                       min_weight_fraction_leaf=0.0, presort=False,\n",
       "                       random_state=42, splitter='best')"
      ]
     },
     "execution_count": 392,
     "metadata": {},
     "output_type": "execute_result"
    }
   ],
   "source": [
    "DT_grid.best_estimator_"
   ]
  },
  {
   "cell_type": "code",
   "execution_count": 393,
   "metadata": {},
   "outputs": [],
   "source": [
    "#Running second tree with tuned parameters\n",
    "tree2 = DecisionTreeClassifier(class_weight=None, criterion='entropy', max_depth=10,\n",
    "                       max_features='auto', max_leaf_nodes=None,\n",
    "                       min_impurity_decrease=0.0, min_impurity_split=None,\n",
    "                       min_samples_leaf=1, min_samples_split=2,\n",
    "                       min_weight_fraction_leaf=0.0, presort=False,\n",
    "                       random_state=42, splitter='best')\n",
    "tree2.fit(X_train, y_train)\n",
    "y_pred2 = tree2.predict(X_test)"
   ]
  },
  {
   "cell_type": "code",
   "execution_count": 394,
   "metadata": {},
   "outputs": [
    {
     "name": "stdout",
     "output_type": "stream",
     "text": [
      "Accuracy: 0.08278965474874063\n"
     ]
    }
   ],
   "source": [
    "print(\"Accuracy:\",metrics.accuracy_score(y_test, y_pred2))"
   ]
  },
  {
   "cell_type": "code",
   "execution_count": 395,
   "metadata": {
    "scrolled": true
   },
   "outputs": [
    {
     "name": "stderr",
     "output_type": "stream",
     "text": [
      "/opt/anaconda3/lib/python3.7/site-packages/sklearn/metrics/classification.py:1437: UndefinedMetricWarning: Precision is ill-defined and being set to 0.0 in labels with no predicted samples.\n",
      "  'precision', 'predicted', average, warn_for)\n"
     ]
    },
    {
     "name": "stdout",
     "output_type": "stream",
     "text": [
      "Precision:  0.054363083397685086\n",
      "Recall Score:  0.08278965474874063\n"
     ]
    },
    {
     "name": "stderr",
     "output_type": "stream",
     "text": [
      "/opt/anaconda3/lib/python3.7/site-packages/sklearn/metrics/classification.py:1437: UndefinedMetricWarning: F-score is ill-defined and being set to 0.0 in labels with no predicted samples.\n",
      "  'precision', 'predicted', average, warn_for)\n"
     ]
    },
    {
     "name": "stdout",
     "output_type": "stream",
     "text": [
      "F1 score:  0.057861434503029545\n",
      "Confusion Matrix:  [[14616  3419  2012 ...     0     0     0]\n",
      " [ 4386  9641  2538 ...     0     0     0]\n",
      " [ 4400  4900  4169 ...     0     0     0]\n",
      " ...\n",
      " [    0     0     0 ...     0     0     0]\n",
      " [    0     0     0 ...     0     0     0]\n",
      " [    0     0     0 ...     0     0     0]]\n"
     ]
    }
   ],
   "source": [
    "print(\"Precision: \", metrics.precision_score(y_test, y_pred2, average = \"weighted\"))\n",
    "print(\"Recall Score: \", metrics.recall_score(y_test, y_pred2, average = 'weighted'))\n",
    "print(\"F1 score: \", metrics.f1_score(y_test, y_pred2, average = 'weighted'))\n",
    "print(\"Confusion Matrix: \", metrics.confusion_matrix(y_test, y_pred2))"
   ]
  },
  {
   "cell_type": "markdown",
   "metadata": {},
   "source": [
    "The new tree has an accuracy of 7% compared to the first tree which had an accuracy of 8%. "
   ]
  },
  {
   "cell_type": "markdown",
   "metadata": {},
   "source": [
    "# Modeling: Random Forest"
   ]
  },
  {
   "cell_type": "code",
   "execution_count": 396,
   "metadata": {},
   "outputs": [],
   "source": [
    "#Untuned RandomForest classifier\n",
    "\n",
    "rand = RandomForestClassifier(n_estimators = 100)\n",
    "rand.fit(X_train, y_train)\n",
    "\n",
    "y_pred3 = rand.predict(X_test)"
   ]
  },
  {
   "cell_type": "code",
   "execution_count": 397,
   "metadata": {},
   "outputs": [
    {
     "name": "stdout",
     "output_type": "stream",
     "text": [
      "Accuracy: 0.08128916328787321\n"
     ]
    }
   ],
   "source": [
    "print(\"Accuracy:\",metrics.accuracy_score(y_test, y_pred3))"
   ]
  },
  {
   "cell_type": "markdown",
   "metadata": {},
   "source": [
    "The accuracy score of the untuned random forest classifier is 8.2% which is similar to the first untuned decision tree classifier."
   ]
  },
  {
   "cell_type": "code",
   "execution_count": 398,
   "metadata": {},
   "outputs": [],
   "source": [
    "n_estimators = np.arange(15, 30)\n",
    "max_features = ['auto', 'sqrt']\n",
    "max_depth = [10, 18, 22]\n",
    "min_samples_split = [2, 5, 10]\n",
    "min_samples_leaf = [1, 2, 4]\n",
    "bootstrap = [True, False]\n",
    "\n",
    "\n",
    "             \n",
    "\n"
   ]
  },
  {
   "cell_type": "code",
   "execution_count": 399,
   "metadata": {},
   "outputs": [],
   "source": [
    "params = {'n_estimators' : n_estimators\n",
    "            ,'max_depth' : max_depth\n",
    "              , 'max_features' : max_features\n",
    "              , 'min_samples_split' : min_samples_split\n",
    "              , 'min_samples_leaf' : min_samples_leaf\n",
    "              , 'bootstrap': bootstrap\n",
    "         }\n",
    "\n"
   ]
  },
  {
   "cell_type": "code",
   "execution_count": 400,
   "metadata": {},
   "outputs": [
    {
     "name": "stdout",
     "output_type": "stream",
     "text": [
      "Fitting 5 folds for each of 10 candidates, totalling 50 fits\n"
     ]
    },
    {
     "name": "stderr",
     "output_type": "stream",
     "text": [
      "[Parallel(n_jobs=1)]: Using backend SequentialBackend with 1 concurrent workers.\n",
      "[Parallel(n_jobs=1)]: Done  50 out of  50 | elapsed: 15.3min finished\n"
     ]
    },
    {
     "data": {
      "text/plain": [
       "RandomizedSearchCV(cv=5, error_score='raise-deprecating',\n",
       "                   estimator=RandomForestClassifier(bootstrap=True,\n",
       "                                                    class_weight=None,\n",
       "                                                    criterion='gini',\n",
       "                                                    max_depth=None,\n",
       "                                                    max_features='auto',\n",
       "                                                    max_leaf_nodes=None,\n",
       "                                                    min_impurity_decrease=0.0,\n",
       "                                                    min_impurity_split=None,\n",
       "                                                    min_samples_leaf=1,\n",
       "                                                    min_samples_split=2,\n",
       "                                                    min_weight_fraction_leaf=0.0,\n",
       "                                                    n_estimators='warn',\n",
       "                                                    n_jobs=None,\n",
       "                                                    oob_sc...\n",
       "                   iid='warn', n_iter=10, n_jobs=None,\n",
       "                   param_distributions={'bootstrap': [True, False],\n",
       "                                        'max_depth': [10, 18, 22],\n",
       "                                        'max_features': ['auto', 'sqrt'],\n",
       "                                        'min_samples_leaf': [1, 2, 4],\n",
       "                                        'min_samples_split': [2, 5, 10],\n",
       "                                        'n_estimators': array([15, 16, 17, 18, 19, 20, 21, 22, 23, 24, 25, 26, 27, 28, 29])},\n",
       "                   pre_dispatch='2*n_jobs', random_state=None, refit=True,\n",
       "                   return_train_score=False, scoring=None, verbose=True)"
      ]
     },
     "execution_count": 400,
     "metadata": {},
     "output_type": "execute_result"
    }
   ],
   "source": [
    "\n",
    "rfc = RandomForestClassifier(random_state = 42)\n",
    "\n",
    "rand_grid = RandomizedSearchCV(rfc, param_distributions = params, cv = 5, verbose = True)\n",
    "rand_grid.fit(X_train, y_train)"
   ]
  },
  {
   "cell_type": "code",
   "execution_count": 401,
   "metadata": {},
   "outputs": [
    {
     "data": {
      "text/plain": [
       "RandomForestClassifier(bootstrap=False, class_weight=None, criterion='gini',\n",
       "                       max_depth=10, max_features='auto', max_leaf_nodes=None,\n",
       "                       min_impurity_decrease=0.0, min_impurity_split=None,\n",
       "                       min_samples_leaf=2, min_samples_split=5,\n",
       "                       min_weight_fraction_leaf=0.0, n_estimators=19,\n",
       "                       n_jobs=None, oob_score=False, random_state=42, verbose=0,\n",
       "                       warm_start=False)"
      ]
     },
     "execution_count": 401,
     "metadata": {},
     "output_type": "execute_result"
    }
   ],
   "source": [
    "rand_grid.best_estimator_"
   ]
  },
  {
   "cell_type": "code",
   "execution_count": 402,
   "metadata": {},
   "outputs": [],
   "source": [
    "rand1 = RandomForestClassifier(bootstrap=True, class_weight=None, criterion='gini',\n",
    "                       max_depth=10, max_features='auto', max_leaf_nodes=None,\n",
    "                       min_impurity_decrease=0.0, min_impurity_split=None,\n",
    "                       min_samples_leaf=4, min_samples_split=2,\n",
    "                       min_weight_fraction_leaf=0.0, n_estimators=17,\n",
    "                       n_jobs=None, oob_score=False, random_state=42, verbose=0,\n",
    "                       warm_start=False)\n",
    "rand1.fit(X_train, y_train)\n",
    "\n",
    "y_pred4 = rand1.predict(X_test)"
   ]
  },
  {
   "cell_type": "code",
   "execution_count": 403,
   "metadata": {},
   "outputs": [
    {
     "name": "stdout",
     "output_type": "stream",
     "text": [
      "Accuracy: 0.09090183069173118\n"
     ]
    }
   ],
   "source": [
    "print(\"Accuracy:\",metrics.accuracy_score(y_test, y_pred4))"
   ]
  },
  {
   "cell_type": "code",
   "execution_count": 404,
   "metadata": {},
   "outputs": [
    {
     "name": "stderr",
     "output_type": "stream",
     "text": [
      "/opt/anaconda3/lib/python3.7/site-packages/sklearn/metrics/classification.py:1437: UndefinedMetricWarning: Precision is ill-defined and being set to 0.0 in labels with no predicted samples.\n",
      "  'precision', 'predicted', average, warn_for)\n"
     ]
    },
    {
     "name": "stdout",
     "output_type": "stream",
     "text": [
      "Precision:  0.059345637762524175\n",
      "Recall Score:  0.09090183069173118\n",
      "F1 score:  0.06440101933668324\n"
     ]
    },
    {
     "name": "stderr",
     "output_type": "stream",
     "text": [
      "/opt/anaconda3/lib/python3.7/site-packages/sklearn/metrics/classification.py:1437: UndefinedMetricWarning: F-score is ill-defined and being set to 0.0 in labels with no predicted samples.\n",
      "  'precision', 'predicted', average, warn_for)\n"
     ]
    }
   ],
   "source": [
    "print(\"Precision: \", metrics.precision_score(y_test, y_pred4, average = \"weighted\"))\n",
    "print(\"Recall Score: \", metrics.recall_score(y_test, y_pred4, average = 'weighted'))\n",
    "print(\"F1 score: \", metrics.f1_score(y_test, y_pred4, average = 'weighted'))"
   ]
  },
  {
   "cell_type": "markdown",
   "metadata": {},
   "source": [
    "# Modeling: Histogram-based Gradient Boosting Classification Tree"
   ]
  },
  {
   "cell_type": "code",
   "execution_count": 409,
   "metadata": {},
   "outputs": [],
   "source": [
    "from sklearn.experimental import enable_hist_gradient_boosting \n",
    "from sklearn.ensemble import HistGradientBoostingClassifier"
   ]
  },
  {
   "cell_type": "code",
   "execution_count": 411,
   "metadata": {},
   "outputs": [
    {
     "data": {
      "text/plain": [
       "0.020902445017815456"
      ]
     },
     "execution_count": 411,
     "metadata": {},
     "output_type": "execute_result"
    }
   ],
   "source": [
    "clf = HistGradientBoostingClassifier(max_iter=100).fit(X_train, y_train)\n",
    "y_pred5 = clf.predict(X_test)\n",
    "clf.score(X_test, y_test)"
   ]
  },
  {
   "cell_type": "markdown",
   "metadata": {},
   "source": [
    "# Modeling: Categorical Naive Bayes"
   ]
  },
  {
   "cell_type": "code",
   "execution_count": 412,
   "metadata": {},
   "outputs": [
    {
     "ename": "ImportError",
     "evalue": "cannot import name 'CategoricalNB' from 'sklearn.naive_bayes' (/opt/anaconda3/lib/python3.7/site-packages/sklearn/naive_bayes.py)",
     "output_type": "error",
     "traceback": [
      "\u001b[0;31m---------------------------------------------------------------------------\u001b[0m",
      "\u001b[0;31mImportError\u001b[0m                               Traceback (most recent call last)",
      "\u001b[0;32m<ipython-input-412-f1d608a6dbfd>\u001b[0m in \u001b[0;36m<module>\u001b[0;34m\u001b[0m\n\u001b[0;32m----> 1\u001b[0;31m \u001b[0;32mfrom\u001b[0m \u001b[0msklearn\u001b[0m\u001b[0;34m.\u001b[0m\u001b[0mnaive_bayes\u001b[0m \u001b[0;32mimport\u001b[0m \u001b[0mCategoricalNB\u001b[0m\u001b[0;34m\u001b[0m\u001b[0;34m\u001b[0m\u001b[0m\n\u001b[0m\u001b[1;32m      2\u001b[0m \u001b[0;34m\u001b[0m\u001b[0m\n\u001b[1;32m      3\u001b[0m \u001b[0mnb\u001b[0m \u001b[0;34m=\u001b[0m \u001b[0mCategoricalNB\u001b[0m\u001b[0;34m(\u001b[0m\u001b[0;34m)\u001b[0m\u001b[0;34m\u001b[0m\u001b[0;34m\u001b[0m\u001b[0m\n\u001b[1;32m      4\u001b[0m \u001b[0;34m\u001b[0m\u001b[0m\n\u001b[1;32m      5\u001b[0m \u001b[0mnb\u001b[0m\u001b[0;34m.\u001b[0m\u001b[0mfit\u001b[0m\u001b[0;34m(\u001b[0m\u001b[0mX_train\u001b[0m\u001b[0;34m,\u001b[0m \u001b[0my_train\u001b[0m\u001b[0;34m)\u001b[0m\u001b[0;34m\u001b[0m\u001b[0;34m\u001b[0m\u001b[0m\n",
      "\u001b[0;31mImportError\u001b[0m: cannot import name 'CategoricalNB' from 'sklearn.naive_bayes' (/opt/anaconda3/lib/python3.7/site-packages/sklearn/naive_bayes.py)"
     ]
    }
   ],
   "source": [
    "from sklearn.naive_bayes import "
   ]
  },
  {
   "cell_type": "markdown",
   "metadata": {},
   "source": [
    "For all the models employed, there have been none that have had an accuracy over 10%. The CV RandomForestClassifier performed the best with an accuracy of 9%. This might be due to the fact that the number of features is very small (only four and one in particular showed great dependence to the output feature)."
   ]
  },
  {
   "cell_type": "code",
   "execution_count": null,
   "metadata": {},
   "outputs": [],
   "source": []
  }
 ],
 "metadata": {
  "kernelspec": {
   "display_name": "Python 3",
   "language": "python",
   "name": "python3"
  },
  "language_info": {
   "codemirror_mode": {
    "name": "ipython",
    "version": 3
   },
   "file_extension": ".py",
   "mimetype": "text/x-python",
   "name": "python",
   "nbconvert_exporter": "python",
   "pygments_lexer": "ipython3",
   "version": "3.7.4"
  }
 },
 "nbformat": 4,
 "nbformat_minor": 2
}
